{
 "cells": [
  {
   "cell_type": "code",
   "execution_count": null,
   "metadata": {},
   "outputs": [],
   "source": [
    "from vpython import *\n",
    "from math import cos,sin,pi\n",
    "from numpy import arange,empty,log, array,append\n",
    "\n",
    "\n",
    "# canvas(title='Solar system',\n",
    "#      width=1200, height=800,center=vec(6e11,0,0))\n",
    "\n",
    "c1=5.0e6\n",
    "Radio=array([2440,6052,6371,3386,69173/9,57316/9],float)*c1\n",
    "Radio=append(Radio,695500*1e5)\n",
    "\n",
    "# print(Radio)\n",
    "\n",
    "c2=2.09e9\n",
    "Radio_orbita=array([57.9,108.9,149.6,227.9,778.5,1433.4,0],float)*c2\n",
    "Periodo=[88,224.7,365.3,687.0, 4331.6, 10759.2,0.01]\n",
    "Periodo=array(Periodo)\n",
    "\n",
    "\n",
    "s= empty(len(Radio),sphere)\n",
    "for i in arange(len(s)):\n",
    "    s[i]=sphere(make_trail=True)\n",
    "    \n",
    "    \n",
    "colores = [color.orange,color.red,color.blue,color.cyan,color.green,color.white,color.yellow]\n",
    "\n",
    "\n",
    "\n",
    "# valores iniciales de cada esfera\n",
    "for i in range(len(s)):\n",
    "    s[i].color=colores[i]\n",
    "    s[i].radius=Radio[i]\n",
    "    s[i].pos=vec(Radio_orbita[i],0,0)\n",
    "    \n",
    "\n",
    "\n",
    "\n",
    "# Mover los planetas\n",
    "    \n",
    "# x=empty(len(s))    \n",
    "# y=empty(len(s))    \n",
    "omega=1/Periodo\n",
    "\n",
    "for t in arange(0,1e5):\n",
    "    for i in range(len(s)):\n",
    "        rate(1000)\n",
    "        x = Radio_orbita[i]*cos(omega[i]*t)\n",
    "        y = Radio_orbita[i]*sin(omega[i]*t)\n",
    "        s[i].pos = vec(x,y,0)\n"
   ]
  },
  {
   "cell_type": "code",
   "execution_count": null,
   "metadata": {},
   "outputs": [],
   "source": []
  }
 ],
 "metadata": {
  "kernelspec": {
   "display_name": "base",
   "language": "python",
   "name": "python3"
  },
  "language_info": {
   "codemirror_mode": {
    "name": "ipython",
    "version": 3
   },
   "file_extension": ".py",
   "mimetype": "text/x-python",
   "name": "python",
   "nbconvert_exporter": "python",
   "pygments_lexer": "ipython3",
   "version": "3.12.8"
  }
 },
 "nbformat": 4,
 "nbformat_minor": 4
}
