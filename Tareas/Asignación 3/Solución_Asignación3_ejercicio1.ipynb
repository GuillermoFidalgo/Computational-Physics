{
 "cells": [
  {
   "cell_type": "code",
   "execution_count": null,
   "metadata": {
    "scrolled": true
   },
   "outputs": [],
   "source": [
    "import numpy as np\n",
    "import matplotlib.pyplot as plt\n",
    "from vpython import *"
   ]
  },
  {
   "cell_type": "code",
   "execution_count": null,
   "metadata": {
    "scrolled": false
   },
   "outputs": [],
   "source": [
    "cmaps=['Accent', 'Accent_r',\n",
    "       'Blues', 'Blues_r', 'BrBG', 'BrBG_r', 'BuGn', 'BuGn_r', 'BuPu', 'BuPu_r',\n",
    "       'CMRmap', 'CMRmap_r',\n",
    "       'Dark2', 'Dark2_r',\n",
    "       'GnBu', 'GnBu_r', 'Greens', 'Greens_r', 'Greys', 'Greys_r',\n",
    "       'OrRd', 'OrRd_r', 'Oranges', 'Oranges_r',\n",
    "       'PRGn', 'PRGn_r', 'Paired', 'Paired_r', 'Pastel1', 'Pastel1_r', 'Pastel2', 'Pastel2_r', 'PiYG', 'PiYG_r',\n",
    "       'PuBu', 'PuBuGn', 'PuBuGn_r', 'PuBu_r', 'PuOr', 'PuOr_r', 'PuRd', 'PuRd_r', 'Purples', 'Purples_r',\n",
    "       'RdBu', 'RdBu_r', 'RdGy', 'RdGy_r', 'RdPu', 'RdPu_r', 'RdYlBu', 'RdYlBu_r', 'RdYlGn', 'RdYlGn_r', 'Reds',\n",
    "       'Reds_r', 'Set1', 'Set1_r', 'Set2', 'Set2_r', 'Set3', 'Set3_r', 'Spectral', 'Spectral_r', 'Wistia',\n",
    "       'Wistia_r', 'YlGn', 'YlGnBu', 'YlGnBu_r', 'YlGn_r', 'YlOrBr', 'YlOrBr_r', 'YlOrRd', 'YlOrRd_r',\n",
    "       'afmhot', 'afmhot_r', 'autumn', 'autumn_r', 'binary', 'binary_r', 'bone', 'bone_r', 'brg', 'brg_r',\n",
    "       'bwr', 'bwr_r', 'cividis', 'cividis_r', 'cool', 'cool_r', 'coolwarm', 'coolwarm_r', 'copper',\n",
    "       'copper_r', 'cubehelix', 'cubehelix_r', 'flag', 'flag_r', 'gist_earth', 'gist_earth_r', 'gist_gray',\n",
    "       'gist_gray_r', 'gist_heat', 'gist_heat_r', 'gist_ncar', 'gist_ncar_r', 'gist_rainbow', 'gist_rainbow_r',\n",
    "       'gist_stern', 'gist_stern_r', 'gist_yarg', 'gist_yarg_r', 'gnuplot', 'gnuplot2', 'gnuplot2_r', 'gnuplot_r', 'gray', 'gray_r',\n",
    "       'hot', 'hot_r', 'hsv', 'hsv_r', 'inferno', 'inferno_r', 'jet', 'jet_r', 'magma', 'magma_r', 'nipy_spectral', 'nipy_spectral_r',\n",
    "       'ocean', 'ocean_r', 'pink', 'pink_r', 'plasma', 'plasma_r', 'prism', 'prism_r', 'rainbow', 'rainbow_r', 'seismic', 'seismic_r',\n",
    "       'spring', 'spring_r', 'summer', 'summer_r', 'tab10', 'tab10_r', 'tab20', 'tab20_r', 'tab20b', 'tab20b_r', 'tab20c', 'tab20c_r',\n",
    "       'terrain', 'terrain_r', 'turbo', 'turbo_r', 'twilight', 'twilight_r', 'twilight_shifted', 'twilight_shifted_r', 'viridis', 'viridis_r', 'winter', 'winter_r']\n",
    "data=np.loadtxt(\"stm.txt\")\n",
    "\n",
    "m=cmaps[::15]\n",
    "\n",
    "mcm=1\n",
    "for i in range(1,13):\n",
    "    if len(m)==4*i:\n",
    "        mcm=i\n",
    "        \n",
    "plt.figure(figsize=(19,10),dpi=400)\n",
    "for ix,x in enumerate(m,start=1):\n",
    "    plt.subplot(mcm,4,ix)\n",
    "    plt.title(x)\n",
    "    plt.imshow(data,cmap=x)\n",
    "plt.tight_layout()\n",
    "plt.show()"
   ]
  },
  {
   "cell_type": "markdown",
   "metadata": {},
   "source": [
    "# Salt Lattice"
   ]
  },
  {
   "cell_type": "code",
   "execution_count": null,
   "metadata": {},
   "outputs": [],
   "source": [
    "#!/usr/bin/env python\n",
    "# coding: utf-8\n",
    "\n",
    "# In[1]:\n",
    "\n",
    "\n",
    "from vpython import sphere,vec,color, canvas\n",
    "canvas(title='Examples of Salt Lattice',\n",
    "     width=600, height=200, background=color.cyan)\n",
    "R=.3\n",
    "m=2\n",
    "x=0\n",
    "for i in range(-m,m+1):\n",
    "    for j in range(-m,m+1):\n",
    "        for k in range(-m,m+1):\n",
    "\n",
    "            if x%2==0:\n",
    "                sphere(radius=R,pos=vec(i,j,k),color=color.white)\n",
    "            else:\n",
    "                sphere(radius=R,pos=vec(i,j,k),color=color.red)\n",
    "            x+=1\n"
   ]
  },
  {
   "cell_type": "markdown",
   "metadata": {},
   "source": [
    "# FCC Lattice"
   ]
  },
  {
   "cell_type": "code",
   "execution_count": null,
   "metadata": {},
   "outputs": [],
   "source": [
    "#!/usr/bin/env python\n",
    "# coding: utf-8\n",
    "\n",
    "# In[1]:\n",
    "\n",
    "\n",
    "canvas(title='Examples of Face Centered Cubic Lattice',\n",
    "     width=600, height=200, background=color.cyan)\n",
    "R=.3\n",
    "m=1\n",
    "x=0\n",
    "for i in range(-m,m+1):\n",
    "    for j in range(-m,m+1):\n",
    "        for k in range(-m,m+1):\n",
    "\n",
    "            if x%2==0:\n",
    "                sphere(radius=R,pos=vec(i,j,k),color=color.white)\n",
    "            x+=1\n"
   ]
  },
  {
   "cell_type": "markdown",
   "metadata": {},
   "source": [
    "# Sistema Solar"
   ]
  },
  {
   "cell_type": "code",
   "execution_count": null,
   "metadata": {},
   "outputs": [],
   "source": [
    "from vpython import *\n",
    "from math import cos,sin,pi\n",
    "from numpy import arange,empty,log, array,append\n",
    "\n",
    "\n",
    "canvas(title='Solar system',\n",
    "      width=900, height=600)\n",
    "\n",
    "c1=5.0e6\n",
    "Radio=array([2440,6052,6371,3386,69173/9,57316/9],float)*c1\n",
    "Radio=append(Radio,695500*1e5)\n",
    "\n",
    "# print(Radio)\n",
    "\n",
    "c2=2.09e9\n",
    "Radio_orbita=array([57.9,108.9,149.6,227.9,778.5,1433.4,0],float)*c2\n",
    "Periodo=[88,224.7,365.3,687.0, 4331.6, 10759.2,0.01]\n",
    "Periodo=array(Periodo)\n",
    "\n",
    "\n",
    "s= empty(len(Radio),sphere)\n",
    "for i in arange(len(s)):\n",
    "    s[i]=sphere(make_trail=True)\n",
    "    \n",
    "    \n",
    "colores = [color.orange,color.red,color.blue,color.cyan,color.green,color.white,color.yellow]\n",
    "\n",
    "\n",
    "\n",
    "# valores iniciales de cada esfera\n",
    "for i in range(len(s)):\n",
    "    s[i].color=colores[i]\n",
    "    s[i].radius=Radio[i]\n",
    "    s[i].pos=vec(Radio_orbita[i],0,0)\n",
    "    \n",
    "\n",
    "\n",
    "\n",
    "# Mover los planetas\n",
    "    \n",
    "# x=empty(len(s))    \n",
    "# y=empty(len(s))    \n",
    "omega=1/Periodo\n",
    "\n",
    "for t in arange(0,1e3):\n",
    "    for i in range(len(s)):\n",
    "        rate(1000)\n",
    "        x = Radio_orbita[i]*cos(omega[i]*t)\n",
    "        y = Radio_orbita[i]*sin(omega[i]*t)\n",
    "        s[i].pos = vec(x,y,0)\n"
   ]
  }
 ],
 "metadata": {
  "kernelspec": {
   "display_name": "base",
   "language": "python",
   "name": "python3"
  },
  "language_info": {
   "codemirror_mode": {
    "name": "ipython",
    "version": 3
   },
   "file_extension": ".py",
   "mimetype": "text/x-python",
   "name": "python",
   "nbconvert_exporter": "python",
   "pygments_lexer": "ipython3",
   "version": "3.12.8"
  }
 },
 "nbformat": 4,
 "nbformat_minor": 4
}
