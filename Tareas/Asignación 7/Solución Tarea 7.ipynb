{
 "cells": [
  {
   "cell_type": "markdown",
   "metadata": {},
   "source": [
    "![problem](problem.png)"
   ]
  },
  {
   "cell_type": "markdown",
   "metadata": {},
   "source": [
    "\\section*{a)}"
   ]
  },
  {
   "cell_type": "markdown",
   "metadata": {},
   "source": [
    "Sabemos que por la la ley de corriente de Kirchhoff, la suma de las corrientes en una malla debe ser 0. Ya tenemos la ecuacion para la unión a voltaje $V_1$, asi que para el resto tenemos:\n",
    "\\begin{align}\n",
    "&\\frac{V_2 - V_1}{R} + \\frac{V_2 }{R} + \\frac{V_2 - V_4}{R}=0 & \\to &&   - V_1 +  3V_2 - V_4=0\\\\\n",
    "&\\frac{V_3 - V_1}{R}+\\frac{V_3 - V_4}{R}+\\frac{V_3 - V_+}{R}=0 & \\to &&  - V_1 +3V_3- V_4 =V_+\\\\ \n",
    "&\\frac{V_4 - V_1}{R}+\\frac{V_4 - V_2}{R}+\\frac{V_4 }{R}+\\frac{V_4 - V_3}{R}=0  & \\to  && -V_1 - V_2 - V_3 +4V_4=0\\\\\n",
    "\\end{align}"
   ]
  },
  {
   "cell_type": "code",
   "execution_count": 1,
   "metadata": {},
   "outputs": [],
   "source": [
    "from numpy import array,empty,copy\n",
    "import numpy as np"
   ]
  },
  {
   "cell_type": "code",
   "execution_count": 2,
   "metadata": {},
   "outputs": [],
   "source": [
    "def gausselim(A,v,N,pivot=False):\n",
    "    \n",
    "        \n",
    "    # Gaussian elimination\n",
    "    for m in range(N):\n",
    "        #pivoting\n",
    "        if pivot == True:\n",
    "            if A[m,m]==0:\n",
    "                B=copy(A)\n",
    "                maxm= np.max(abs(B),axis=0)\n",
    "                maxi=np.argmax(maxm)\n",
    "                A[m,:],A[maxi,:]=B[maxi,:],B[m,:]\n",
    "                v2=copy(v)\n",
    "                v[m],v[maxi]=v2[maxi],v2[m]\n",
    "\n",
    "        # Divide by the diagonal element            \n",
    "        div = A[m,m]\n",
    "        A[m,:] /= div\n",
    "        v[m] /= div\n",
    "\n",
    "        # Now subtract from the lower rows\n",
    "        for i in range(m+1,N):\n",
    "            mult = A[i,m]\n",
    "            A[i,:] -= mult*A[m,:]\n",
    "            v[i] -= mult*v[m]\n",
    "\n",
    "    # Backsubstitution\n",
    "    x = empty(N,float)\n",
    "    for m in range(N-1,-1,-1):\n",
    "        x[m] = v[m]\n",
    "        for i in range(m+1,N):\n",
    "            x[m] -= A[m,i]*x[i]\n",
    "\n",
    "    return x"
   ]
  },
  {
   "cell_type": "markdown",
   "metadata": {},
   "source": [
    "\\section*{b)}"
   ]
  },
  {
   "cell_type": "code",
   "execution_count": 3,
   "metadata": {},
   "outputs": [
    {
     "name": "stdout",
     "output_type": "stream",
     "text": [
      "A= \n",
      " [[ 4. -1. -1. -1.]\n",
      " [-1.  3.  0. -1.]\n",
      " [-1.  0.  3. -1.]\n",
      " [-1. -1. -1.  4.]]\n",
      "\n",
      "v = [5. 0. 5. 0.]\n"
     ]
    }
   ],
   "source": [
    " A = array([[ 4, -1, -1, -1 ],\n",
    "            [ -1, 3,  0, -1 ],\n",
    "            [ -1, 0,  3, -1 ],\n",
    "            [ -1, -1, -1, 4 ]],float)\n",
    "v= array([5 , 0 ,5 ,0],float)\n",
    "N = len(v)\n",
    "print(\"A= \\n\",A)\n",
    "print(\"\\nv =\",v)"
   ]
  },
  {
   "cell_type": "code",
   "execution_count": 4,
   "metadata": {},
   "outputs": [
    {
     "name": "stdout",
     "output_type": "stream",
     "text": [
      "El vector x es \n",
      "x= [3.         1.66666667 3.33333333 2.        ]\n"
     ]
    }
   ],
   "source": [
    "x=gausselim(A,v,N)\n",
    "print(\"El vector x es \\nx=\",x)"
   ]
  },
  {
   "cell_type": "markdown",
   "metadata": {},
   "source": [
    "![problem2](problem2.png)"
   ]
  },
  {
   "cell_type": "markdown",
   "metadata": {},
   "source": [
    "\\section*{a)}"
   ]
  },
  {
   "cell_type": "code",
   "execution_count": 5,
   "metadata": {},
   "outputs": [
    {
     "name": "stdout",
     "output_type": "stream",
     "text": [
      "A= \n",
      " [[ 4. -1. -1. -1.]\n",
      " [-1.  3.  0. -1.]\n",
      " [-1.  0.  3. -1.]\n",
      " [-1. -1. -1.  4.]]\n",
      "\n",
      "v = [5. 0. 5. 0.]\n"
     ]
    }
   ],
   "source": [
    " A = array([[ 4, -1, -1, -1 ],\n",
    "            [ -1, 3,  0, -1 ],\n",
    "            [ -1, 0,  3, -1 ],\n",
    "            [ -1, -1, -1, 4 ]],float)\n",
    "v= array([5 , 0 ,5 ,0],float)\n",
    "N = len(v)\n",
    "print(\"A= \\n\",A)\n",
    "print(\"\\nv =\",v)"
   ]
  },
  {
   "cell_type": "code",
   "execution_count": 6,
   "metadata": {},
   "outputs": [
    {
     "name": "stdout",
     "output_type": "stream",
     "text": [
      "x con pivot\n",
      " [3.         1.66666667 3.33333333 2.        ]\n"
     ]
    }
   ],
   "source": [
    "x=gausselim(A,v,N,pivot=True)\n",
    "print(\"x con pivot\\n\",x)"
   ]
  },
  {
   "cell_type": "markdown",
   "metadata": {},
   "source": [
    "\\section*{b)}"
   ]
  },
  {
   "cell_type": "markdown",
   "metadata": {},
   "source": [
    "Ecuación 6.17 es\n",
    "$$\n",
    "\\begin{pmatrix}\n",
    "0 & 1 & 4 & 1\\\\ \n",
    "3 & 4 & -1 & -1 \\\\\n",
    "1 & -4 & 1 & 5 \\\\\n",
    "2 & -2 & 1 & 3\n",
    "\\end{pmatrix}\n",
    "\\begin{pmatrix}\n",
    "w \\\\ x \\\\ y \\\\z\n",
    "\\end{pmatrix}\n",
    "= \n",
    "\\begin{pmatrix}\n",
    "-4 \\\\ 3 \\\\ 9 \\\\7\n",
    "\\end{pmatrix}\n",
    "$$"
   ]
  },
  {
   "cell_type": "code",
   "execution_count": 7,
   "metadata": {},
   "outputs": [
    {
     "name": "stdout",
     "output_type": "stream",
     "text": [
      "A= \n",
      " [[ 0.  1.  4.  1.]\n",
      " [ 3.  4. -1. -1.]\n",
      " [ 1. -4.  1.  5.]\n",
      " [ 2. -2.  1.  3.]]\n",
      "\n",
      "v = [-4.  3.  9.  7.]\n"
     ]
    }
   ],
   "source": [
    " A = array([[ 0, 1, 4, 1 ],\n",
    "            [ 3, 4,-1,-1 ],\n",
    "            [ 1,-4, 1, 5 ],\n",
    "            [ 2,-2, 1, 3 ]],float)\n",
    "v= array([-4 , 3 ,9 ,7],float)\n",
    "N = len(v)\n",
    "print(\"A= \\n\",A)\n",
    "print(\"\\nv =\",v)"
   ]
  },
  {
   "cell_type": "code",
   "execution_count": 8,
   "metadata": {},
   "outputs": [
    {
     "name": "stdout",
     "output_type": "stream",
     "text": [
      "x con pivot\n",
      " [ 1.61904762 -0.42857143 -1.23809524  1.38095238]\n"
     ]
    }
   ],
   "source": [
    "x=gausselim(A,v,N,pivot=True)\n",
    "print(\"x con pivot\\n\",x)"
   ]
  },
  {
   "cell_type": "markdown",
   "metadata": {},
   "source": [
    "![problem3](problem3.png)"
   ]
  },
  {
   "cell_type": "code",
   "execution_count": 9,
   "metadata": {},
   "outputs": [
    {
     "name": "stdout",
     "output_type": "stream",
     "text": [
      "A= \n",
      " [[ 4. -1. -1. -1.]\n",
      " [-1.  3.  0. -1.]\n",
      " [-1.  0.  3. -1.]\n",
      " [-1. -1. -1.  4.]]\n",
      "\n",
      "v = [5. 0. 5. 0.]\n"
     ]
    }
   ],
   "source": [
    " A = array([[ 4, -1, -1, -1 ],\n",
    "            [ -1, 3,  0, -1 ],\n",
    "            [ -1, 0,  3, -1 ],\n",
    "            [ -1, -1, -1, 4 ]],float)\n",
    "v= array([5 , 0 ,5 ,0],float)\n",
    "N = len(v)\n",
    "print(\"A= \\n\",A)\n",
    "print(\"\\nv =\",v)"
   ]
  },
  {
   "cell_type": "code",
   "execution_count": 10,
   "metadata": {},
   "outputs": [
    {
     "name": "stdout",
     "output_type": "stream",
     "text": [
      "x con solve\n",
      " [3.         1.66666667 3.33333333 2.        ]\n"
     ]
    }
   ],
   "source": [
    "from numpy.linalg import solve \n",
    "x = solve(A,v) \n",
    "print(\"x con solve\\n\",x)"
   ]
  }
 ],
 "metadata": {
  "kernelspec": {
   "display_name": "Python 3",
   "language": "python",
   "name": "python3"
  },
  "language_info": {
   "codemirror_mode": {
    "name": "ipython",
    "version": 3
   },
   "file_extension": ".py",
   "mimetype": "text/x-python",
   "name": "python",
   "nbconvert_exporter": "python",
   "pygments_lexer": "ipython3",
   "version": "3.7.6"
  }
 },
 "nbformat": 4,
 "nbformat_minor": 4
}
