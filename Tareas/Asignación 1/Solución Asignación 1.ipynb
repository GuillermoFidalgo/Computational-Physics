{
 "cells": [
  {
   "cell_type": "raw",
   "metadata": {},
   "source": [
    "\\begin{figure}[h]\n",
    "\\includegraphics[width=\\textwidth]{./images/Ball_drop.png}\n",
    "\\end{figure}"
   ]
  },
  {
   "cell_type": "markdown",
   "metadata": {},
   "source": [
    "Importamos primero las librerías que necesitamos"
   ]
  },
  {
   "cell_type": "code",
   "execution_count": 1,
   "metadata": {},
   "outputs": [],
   "source": [
    "import numpy as np"
   ]
  },
  {
   "cell_type": "code",
   "execution_count": 2,
   "metadata": {},
   "outputs": [
    {
     "name": "stdout",
     "output_type": "stream",
     "text": [
      "Entra una altura inicial:\n",
      "100\n"
     ]
    }
   ],
   "source": [
    " h=float(input(\"Entra una altura inicial:\\n\"))\n",
    "# v0=0\n",
    "g=9.81 #m/s^2\n"
   ]
  },
  {
   "cell_type": "markdown",
   "metadata": {},
   "source": [
    "Como nos interesa calcular el tiempo que tarda en llegar la bola al suelo partimos de la siguiente ecuación de cinemática\n",
    "\n",
    "$$ y= y_0 + v_0t -\\frac{1}{2}gt^2$$"
   ]
  },
  {
   "cell_type": "markdown",
   "metadata": {},
   "source": [
    " Sustituyendo que la velocidad inicial es 0 y que cuando la bola llega al suelo la altura final será 0, obtenemos la siguiente expresión para el tiempo de caída.\n",
    "\\begin{gather*}\n",
    "0= h  - \\frac{1}{2}gt^2\\\\\n",
    "h= \\frac12 gt^2 \\\\\n",
    "t= \\sqrt{\\frac{2h}{g}}\n",
    "\\end{gather*}\n",
    "\n",
    "Ahora podemos calcular el tiempo de caída"
   ]
  },
  {
   "cell_type": "code",
   "execution_count": 3,
   "metadata": {},
   "outputs": [
    {
     "name": "stdout",
     "output_type": "stream",
     "text": [
      "El tiempo de caída desde 100.0m es 4.515236409857309s\n"
     ]
    }
   ],
   "source": [
    "t=np.sqrt(2*h/g)\n",
    "print('El tiempo de caída desde {}m es {}s'.format(h,t))"
   ]
  },
  {
   "cell_type": "markdown",
   "metadata": {},
   "source": [
    "\\begin{figure}[h]\n",
    "\\includegraphics[width=\\textwidth]{./images/Satellite_altitude.png}\n",
    "\\end{figure}"
   ]
  },
  {
   "cell_type": "markdown",
   "metadata": {},
   "source": [
    "\\subsection*{a}\n"
   ]
  },
  {
   "cell_type": "markdown",
   "metadata": {},
   "source": [
    "\n",
    "Para mostrar esto primero partimos de la segunda ley de Newton para este sistema.\n",
    "\n",
    "\\begin{align*}\n",
    " F &= ma \\\\\n",
    "G\\frac{Mm}{r^2} &= m\\frac{v^2}{r}\\\\\n",
    "G\\frac{M}{r} &= v^2 \n",
    "\\end{align*}\n"
   ]
  },
  {
   "cell_type": "markdown",
   "metadata": {},
   "source": [
    "Como el satélite está orbitando períodicamente cada $T$ segundos quiere decir que orbita a una frecuencia de \n",
    "\\begin{gather*}\n",
    "\\frac{v}{r}=\\omega= 2\\pi f= \\frac{2\\pi}{T}\\\\ \n",
    "\\therefore \\; v=\\frac{2\\pi r}{T} \n",
    "\\end{gather*}"
   ]
  },
  {
   "cell_type": "markdown",
   "metadata": {},
   "source": [
    "Sustituyendo esta expresión de $v$ en nuestra ecuación anterior obtenemos\n",
    "\\begin{align*}\n",
    "G\\frac{M}{r}&=\\frac{4\\pi^2 r^2}{T^2}\\\\\n",
    "r^3 &= G\\frac{MT^2}{4 \\pi^2}\\\\\n",
    "r &= \\left(G\\frac{MT^2}{4 \\pi^2}\\right)^{\\frac13}\n",
    "\\end{align*}"
   ]
  },
  {
   "cell_type": "markdown",
   "metadata": {},
   "source": [
    "Como $r$ es la distancia desde el centro de la tierra hasta el satélite tenemos entonces que $r= R +h$"
   ]
  },
  {
   "cell_type": "markdown",
   "metadata": {},
   "source": [
    "\\begin{align*}\n",
    "R+h&= \\left(G\\frac{MT^2}{4 \\pi^2}\\right)^{\\frac13}\\\\\n",
    "h &= \\left(G\\frac{MT^2}{4 \\pi^2}\\right)^{\\frac13} -R \n",
    "\\end{align*}"
   ]
  },
  {
   "cell_type": "markdown",
   "metadata": {},
   "source": [
    "\\subsection*{b y c}"
   ]
  },
  {
   "cell_type": "code",
   "execution_count": 60,
   "metadata": {},
   "outputs": [],
   "source": [
    "from scipy.constants import G,pi,minute,hour,day \n",
    "import sys\n",
    "# minute,hour,day son los segundos que hay en un minuto,hora y día respectivamente\n",
    "\n",
    "R=6371e3 # metros\n",
    "M = 5.97e24 # kg"
   ]
  },
  {
   "cell_type": "code",
   "execution_count": 61,
   "metadata": {
    "scrolled": true
   },
   "outputs": [
    {
     "name": "stdout",
     "output_type": "stream",
     "text": [
      "\n",
      "Ingrese el periodo de orbita del satélite (con las unidades 's' 'min' o 'h') \n",
      "24h\n",
      "La altura de la orbita desde la superficie de la tierra es 35864982.47544822 m\n",
      "\n",
      "\n",
      "Ingrese el periodo de orbita del satélite (con las unidades 's' 'min' o 'h') \n",
      "90min\n",
      "La altura de la orbita desde la superficie de la tierra es 280750.4229760235 m\n",
      "\n",
      "\n",
      "Ingrese el periodo de orbita del satélite (con las unidades 's' 'min' o 'h') \n",
      "45min\n",
      "La altura de la orbita desde la superficie de la tierra es -2180659.8117226907 m\n",
      "\n"
     ]
    }
   ],
   "source": [
    "for i in range(3):\n",
    "    T=input(\"\\nIngrese el periodo de orbita del satélite (con las unidades 's' 'min' o 'h') \\n\")\n",
    "    if \"s\" in T:\n",
    "        T=float(T.strip(\"s\"))\n",
    "\n",
    "    elif \"min\" in T:\n",
    "        T=float(T.strip(\"min\"))\n",
    "        T=T*minute\n",
    "\n",
    "    elif \"h\" in T:\n",
    "            T=float(T.strip(\"h\"))\n",
    "            T=T*hour\n",
    "    else: \n",
    "        print('ingrese unidades al periodo de órbita')\n",
    "        sys.exit()\n",
    "\n",
    "\n",
    "    h = (G*M*T**2/(4*pi**2))**(1/3) - R\n",
    "    print(\"La altura de la orbita desde la superficie de la tierra es {} m\\n\".format(h))"
   ]
  },
  {
   "cell_type": "markdown",
   "metadata": {},
   "source": [
    "Se concluye que no es posible que el satélite orbite la tierra cada 45 segundos ya que necesitaría orbitar a una distancia por debajo de la superficie de la tierra. "
   ]
  },
  {
   "cell_type": "markdown",
   "metadata": {},
   "source": [
    "\\subsection*{d}"
   ]
  },
  {
   "cell_type": "markdown",
   "metadata": {},
   "source": [
    "Un día sideral es el tiempo que se tarda el planeta Tierra en completar una rotación sobre se propio eje, mientras que el día solar (el de 24 horas) es el tiempo que se tarda una persona en la Tierra observar que el sol llegue al mismo punto en el cielo."
   ]
  },
  {
   "cell_type": "markdown",
   "metadata": {},
   "source": [
    "Si corremos el programa una vez más veremos que la diferencia es significativa"
   ]
  },
  {
   "cell_type": "code",
   "execution_count": 130,
   "metadata": {},
   "outputs": [
    {
     "name": "stdout",
     "output_type": "stream",
     "text": [
      "La altura de la orbita para un período de 23.93h s es 35782816.980000556 m\n",
      "\n",
      "La altura de la orbita para un período de 24h s es 35864982.47544822 m\n",
      "\n",
      "La diferencia entre las alturas es de 82165.49544766545 metros\n"
     ]
    }
   ],
   "source": [
    "t=[\"23.93h\",\"24h\" ]\n",
    "H=[]\n",
    "for i,T in enumerate(t):\n",
    "    \n",
    "    if \"s\" in T:\n",
    "        T=float(T.strip(\"s\"))\n",
    "\n",
    "    elif \"min\" in T:\n",
    "        T=float(T.strip(\"min\"))\n",
    "        T=T*minute\n",
    "\n",
    "    elif \"h\" in T:\n",
    "        T=float(T.strip(\"h\"))\n",
    "        T=T*hour\n",
    "    else: \n",
    "        print('ingrese unidades al periodo de órbita')\n",
    "        sys.exit()\n",
    "\n",
    "\n",
    "    h = (G*M*T**2/(4*pi**2))**(1/3) - R\n",
    "    H.append(h)\n",
    "    print(\"La altura de la orbita para un período de {} s es {} m\\n\".format(t[i],h))\n",
    "diff=abs(H[0]-H[1])\n",
    "print('La diferencia entre las alturas es de {} metros'.format(diff))"
   ]
  }
 ],
 "metadata": {
  "kernelspec": {
   "display_name": "Python 3",
   "language": "python",
   "name": "python3"
  },
  "language_info": {
   "codemirror_mode": {
    "name": "ipython",
    "version": 3
   },
   "file_extension": ".py",
   "mimetype": "text/x-python",
   "name": "python",
   "nbconvert_exporter": "python",
   "pygments_lexer": "ipython3",
   "version": "3.8.5"
  }
 },
 "nbformat": 4,
 "nbformat_minor": 4
}
