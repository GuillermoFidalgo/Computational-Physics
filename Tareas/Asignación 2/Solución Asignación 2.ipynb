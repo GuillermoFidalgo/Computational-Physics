{
 "cells": [
  {
   "cell_type": "markdown",
   "metadata": {},
   "source": [
    "![exercise1](images/ex1.png)"
   ]
  },
  {
   "cell_type": "code",
   "execution_count": 1,
   "metadata": {},
   "outputs": [],
   "source": [
    "import numpy as np\n",
    "import matplotlib.pyplot as plt\n"
   ]
  },
  {
   "cell_type": "markdown",
   "metadata": {},
   "source": [
    "# Partes a) y b)"
   ]
  },
  {
   "cell_type": "code",
   "execution_count": 2,
   "metadata": {},
   "outputs": [],
   "source": [
    "def Binding_energy(A,Z,ret=\"b\"):\n",
    "    #Todos están en MeV\n",
    "    a1=15.8 \n",
    "    a2=18.3 \n",
    "    a3=0.714\n",
    "    a4=23.2\n",
    "    #si A es impar \n",
    "    if A%2 ==1: \n",
    "        a5= 0\n",
    "\n",
    "    #si A y Z son par\n",
    "    elif A%2 ==0 and Z%2 ==0 :\n",
    "        a5=12\n",
    "        \n",
    "    #Si A es par y Z es impar    \n",
    "    elif A%2==0 and Z%2==1:\n",
    "        a5=-12\n",
    "        \n",
    "        \n",
    "    B= a1*A - a2*A**(2/3) - a3*(Z**2/A**(1/3)) - a4*((A-2*Z)**2)/A + a5/(A**.5)\n",
    "    \n",
    "\n",
    "    if ret == \"b\":\n",
    "        return B\n",
    "    elif ret == \"b/a\":\n",
    "        return B/A\n",
    "    "
   ]
  },
  {
   "cell_type": "code",
   "execution_count": 3,
   "metadata": {
    "scrolled": true
   },
   "outputs": [
    {
     "name": "stdout",
     "output_type": "stream",
     "text": [
      "Energía de enlace es 497.5620206224374 MeV\n"
     ]
    }
   ],
   "source": [
    "print('Energía de enlace es {} MeV'.format(Binding_energy(58,28)))"
   ]
  },
  {
   "cell_type": "code",
   "execution_count": 4,
   "metadata": {},
   "outputs": [
    {
     "name": "stdout",
     "output_type": "stream",
     "text": [
      "Energía de enlace por nucleón es 8.578655527973059 MeV\n"
     ]
    }
   ],
   "source": [
    "print('Energía de enlace por nucleón es {} MeV'.format(Binding_energy(58,28,ret='b/a')))"
   ]
  },
  {
   "cell_type": "markdown",
   "metadata": {},
   "source": [
    "# Parte c)"
   ]
  },
  {
   "cell_type": "code",
   "execution_count": 5,
   "metadata": {
    "scrolled": true
   },
   "outputs": [
    {
     "name": "stdout",
     "output_type": "stream",
     "text": [
      "Ingrese número atómico\n",
      "28\n"
     ]
    }
   ],
   "source": [
    "Z=int(input('Ingrese número atómico\\n'))\n",
    "A = np.arange(Z,3*Z+1)"
   ]
  },
  {
   "cell_type": "code",
   "execution_count": 6,
   "metadata": {},
   "outputs": [
    {
     "name": "stdout",
     "output_type": "stream",
     "text": [
      "El número de masa A=62 tiene la mayor energía por nucleón : 8.70245768367189 MeV\n"
     ]
    }
   ],
   "source": [
    "maxBindE=0\n",
    "for a in A:\n",
    "    if Binding_energy(a,Z,ret='b/a') > maxBindE:\n",
    "        maxBindE=Binding_energy(a,Z,ret='b/a')\n",
    "        MaxA=a\n",
    "    \n",
    "print(\"El número de masa A={0} tiene la mayor energía por nucleón : {1} MeV\".format(MaxA,maxBindE))"
   ]
  },
  {
   "cell_type": "markdown",
   "metadata": {},
   "source": [
    "# Parte d)"
   ]
  },
  {
   "cell_type": "code",
   "execution_count": 7,
   "metadata": {
    "scrolled": true
   },
   "outputs": [
    {
     "name": "stdout",
     "output_type": "stream",
     "text": [
      "El número atómico Z=1 tiene la mayor energía por nucleón cuando A=3\n",
      " con energía 0.36869091831015793\n",
      "\n",
      "\n",
      "El número atómico Z=2 tiene la mayor energía por nucleón cuando A=4\n",
      " con energía 5.321930578649441\n",
      "\n",
      "\n",
      "El número atómico Z=3 tiene la mayor energía por nucleón cuando A=7\n",
      " con energía 5.280168164356119\n",
      "\n",
      "\n",
      "El número atómico Z=4 tiene la mayor energía por nucleón cuando A=8\n",
      " con energía 6.466330085889912\n",
      "\n",
      "\n",
      "El número atómico Z=5 tiene la mayor energía por nucleón cuando A=11\n",
      " con energía 6.650123444727665\n",
      "\n",
      "\n",
      "El número atómico Z=6 tiene la mayor energía por nucleón cuando A=14\n",
      " con energía 7.200918138809924\n",
      "\n",
      "\n",
      "El número atómico Z=7 tiene la mayor energía por nucleón cuando A=15\n",
      " con energía 7.330860591990981\n",
      "\n",
      "\n",
      "El número atómico Z=8 tiene la mayor energía por nucleón cuando A=18\n",
      " con energía 7.719275577459026\n",
      "\n",
      "\n",
      "El número atómico Z=9 tiene la mayor energía por nucleón cuando A=19\n",
      " con energía 7.73697768275634\n",
      "\n",
      "\n",
      "El número atómico Z=10 tiene la mayor energía por nucleón cuando A=22\n",
      " con energía 8.035350864715019\n",
      "\n",
      "\n",
      "El número atómico Z=11 tiene la mayor energía por nucleón cuando A=25\n",
      " con energía 8.025554739665797\n",
      "\n",
      "\n",
      "El número atómico Z=12 tiene la mayor energía por nucleón cuando A=26\n",
      " con energía 8.241172535624845\n",
      "\n",
      "\n",
      "El número atómico Z=13 tiene la mayor energía por nucleón cuando A=29\n",
      " con energía 8.240988355754636\n",
      "\n",
      "\n",
      "El número atómico Z=14 tiene la mayor energía por nucleón cuando A=30\n",
      " con energía 8.37916169002579\n",
      "\n",
      "\n",
      "El número atómico Z=15 tiene la mayor energía por nucleón cuando A=33\n",
      " con energía 8.38521415855582\n",
      "\n",
      "\n",
      "El número atómico Z=16 tiene la mayor energía por nucleón cuando A=36\n",
      " con energía 8.489230168218935\n",
      "\n",
      "\n",
      "El número atómico Z=17 tiene la mayor energía por nucleón cuando A=37\n",
      " con energía 8.48201495174352\n",
      "\n",
      "\n",
      "El número atómico Z=18 tiene la mayor energía por nucleón cuando A=40\n",
      " con energía 8.573405285254953\n",
      "\n",
      "\n",
      "El número atómico Z=19 tiene la mayor energía por nucleón cuando A=43\n",
      " con energía 8.551826855569242\n",
      "\n",
      "\n",
      "El número atómico Z=20 tiene la mayor energía por nucleón cuando A=44\n",
      " con energía 8.627152167121634\n",
      "\n",
      "\n",
      "El número atómico Z=21 tiene la mayor energía por nucleón cuando A=47\n",
      " con energía 8.610130576802973\n",
      "\n",
      "\n",
      "El número atómico Z=22 tiene la mayor energía por nucleón cuando A=48\n",
      " con energía 8.6585154571142\n",
      "\n",
      "\n",
      "El número atómico Z=23 tiene la mayor energía por nucleón cuando A=51\n",
      " con energía 8.645234048730842\n",
      "\n",
      "\n",
      "El número atómico Z=24 tiene la mayor energía por nucleón cuando A=54\n",
      " con energía 8.687306583887372\n",
      "\n",
      "\n",
      "El número atómico Z=25 tiene la mayor energía por nucleón cuando A=55\n",
      " con energía 8.662703971015583\n",
      "\n",
      "\n",
      "El número atómico Z=26 tiene la mayor energía por nucleón cuando A=58\n",
      " con energía 8.701432576808987\n",
      "\n",
      "\n",
      "El número atómico Z=27 tiene la mayor energía por nucleón cuando A=61\n",
      " con energía 8.678053678353882\n",
      "\n",
      "\n",
      "El número atómico Z=28 tiene la mayor energía por nucleón cuando A=62\n",
      " con energía 8.70245768367189\n",
      "\n",
      "\n",
      "El número atómico Z=29 tiene la mayor energía por nucleón cuando A=65\n",
      " con energía 8.681907349580422\n",
      "\n",
      "\n",
      "El número atómico Z=30 tiene la mayor energía por nucleón cuando A=68\n",
      " con energía 8.701580328486784\n",
      "\n",
      "\n",
      "El número atómico Z=31 tiene la mayor energía por nucleón cuando A=69\n",
      " con energía 8.675012598311142\n",
      "\n",
      "\n",
      "El número atómico Z=32 tiene la mayor energía por nucleón cuando A=72\n",
      " con energía 8.693433639739787\n",
      "\n",
      "\n",
      "El número atómico Z=33 tiene la mayor energía por nucleón cuando A=75\n",
      " con energía 8.668156247337208\n",
      "\n",
      "\n",
      "El número atómico Z=34 tiene la mayor energía por nucleón cuando A=76\n",
      " con energía 8.67683411103597\n",
      "\n",
      "\n",
      "El número atómico Z=35 tiene la mayor energía por nucleón cuando A=79\n",
      " con energía 8.653727479263061\n",
      "\n",
      "\n",
      "El número atómico Z=36 tiene la mayor energía por nucleón cuando A=82\n",
      " con energía 8.66141248935323\n",
      "\n",
      "\n",
      "El número atómico Z=37 tiene la mayor energía por nucleón cuando A=85\n",
      " con energía 8.633940444065898\n",
      "\n",
      "\n",
      "El número atómico Z=38 tiene la mayor energía por nucleón cuando A=86\n",
      " con energía 8.639441275530453\n",
      "\n",
      "\n",
      "El número atómico Z=39 tiene la mayor energía por nucleón cuando A=89\n",
      " con energía 8.613815033672552\n",
      "\n",
      "\n",
      "El número atómico Z=40 tiene la mayor energía por nucleón cuando A=92\n",
      " con energía 8.614514461544127\n",
      "\n",
      "\n",
      "El número atómico Z=41 tiene la mayor energía por nucleón cuando A=93\n",
      " con energía 8.587741675710747\n",
      "\n",
      "\n",
      "El número atómico Z=42 tiene la mayor energía por nucleón cuando A=96\n",
      " con energía 8.588337807352417\n",
      "\n",
      "\n",
      "El número atómico Z=43 tiene la mayor energía por nucleón cuando A=99\n",
      " con energía 8.561488033970447\n",
      "\n",
      "\n",
      "El número atómico Z=44 tiene la mayor energía por nucleón cuando A=102\n",
      " con energía 8.557428804696526\n",
      "\n",
      "\n",
      "El número atómico Z=45 tiene la mayor energía por nucleón cuando A=103\n",
      " con energía 8.531857077904819\n",
      "\n",
      "\n",
      "El número atómico Z=46 tiene la mayor energía por nucleón cuando A=106\n",
      " con energía 8.52785864674169\n",
      "\n",
      "\n",
      "El número atómico Z=47 tiene la mayor energía por nucleón cuando A=109\n",
      " con energía 8.500490244095234\n",
      "\n",
      "\n",
      "El número atómico Z=48 tiene la mayor energía por nucleón cuando A=110\n",
      " con energía 8.4940569666179\n",
      "\n",
      "\n",
      "El número atómico Z=49 tiene la mayor energía por nucleón cuando A=113\n",
      " con energía 8.46797678166812\n",
      "\n",
      "\n",
      "El número atómico Z=50 tiene la mayor energía por nucleón cuando A=116\n",
      " con energía 8.460713172533021\n",
      "\n",
      "\n",
      "El número atómico Z=51 tiene la mayor energía por nucleón cuando A=119\n",
      " con energía 8.433224407343122\n",
      "\n",
      "\n",
      "El número atómico Z=52 tiene la mayor energía por nucleón cuando A=120\n",
      " con energía 8.424696665334825\n",
      "\n",
      "\n",
      "El número atómico Z=53 tiene la mayor energía por nucleón cuando A=123\n",
      " con energía 8.398332486638505\n",
      "\n",
      "\n",
      "El número atómico Z=54 tiene la mayor energía por nucleón cuando A=126\n",
      " con energía 8.38868945344295\n",
      "\n",
      "\n",
      "El número atómico Z=55 tiene la mayor energía por nucleón cuando A=129\n",
      " con energía 8.361310553455423\n",
      "\n",
      "\n",
      "El número atómico Z=56 tiene la mayor energía por nucleón cuando A=130\n",
      " con energía 8.350819725669146\n",
      "\n",
      "\n",
      "El número atómico Z=57 tiene la mayor energía por nucleón cuando A=133\n",
      " con energía 8.32443069811602\n",
      "\n",
      "\n",
      "El número atómico Z=58 tiene la mayor energía por nucleón cuando A=136\n",
      " con energía 8.313019639868703\n",
      "\n",
      "\n",
      "El número atómico Z=59 tiene la mayor energía por nucleón cuando A=139\n",
      " con energía 8.285884693887583\n",
      "\n",
      "\n",
      "El número atómico Z=60 tiene la mayor energía por nucleón cuando A=140\n",
      " con energía 8.273583815729522\n",
      "\n",
      "\n",
      "El número atómico Z=61 tiene la mayor energía por nucleón cuando A=143\n",
      " con energía 8.247327458286065\n",
      "\n",
      "\n",
      "El número atómico Z=62 tiene la mayor energía por nucleón cuando A=146\n",
      " con energía 8.234582872513133\n",
      "\n",
      "\n",
      "El número atómico Z=63 tiene la mayor energía por nucleón cuando A=149\n",
      " con energía 8.207769087134613\n",
      "\n",
      "\n",
      "El número atómico Z=64 tiene la mayor energía por nucleón cuando A=150\n",
      " con energía 8.193813966434627\n",
      "\n",
      "\n",
      "El número atómico Z=65 tiene la mayor energía por nucleón cuando A=153\n",
      " con energía 8.167786207290451\n",
      "\n",
      "\n",
      "El número atómico Z=66 tiene la mayor energía por nucleón cuando A=156\n",
      " con energía 8.154024477520512\n",
      "\n",
      "\n",
      "El número atómico Z=67 tiene la mayor energía por nucleón cuando A=159\n",
      " con energía 8.127574530301825\n",
      "\n",
      "\n",
      "El número atómico Z=68 tiene la mayor energía por nucleón cuando A=162\n",
      " con energía 8.11278037767185\n",
      "\n",
      "\n",
      "El número atómico Z=69 tiene la mayor energía por nucleón cuando A=163\n",
      " con energía 8.086373082934724\n",
      "\n",
      "\n",
      "El número atómico Z=70 tiene la mayor energía por nucleón cuando A=166\n",
      " con energía 8.071829365612306\n",
      "\n",
      "\n",
      "El número atómico Z=71 tiene la mayor energía por nucleón cuando A=169\n",
      " con energía 8.045764583108769\n",
      "\n",
      "\n",
      "El número atómico Z=72 tiene la mayor energía por nucleón cuando A=172\n",
      " con energía 8.030368571593026\n",
      "\n",
      "\n",
      "El número atómico Z=73 tiene la mayor energía por nucleón cuando A=175\n",
      " con energía 8.004105311543137\n",
      "\n",
      "\n",
      "El número atómico Z=74 tiene la mayor energía por nucleón cuando A=176\n",
      " con energía 7.988369073415251\n",
      "\n",
      "\n",
      "El número atómico Z=75 tiene la mayor energía por nucleón cuando A=179\n",
      " con energía 7.962697427019249\n",
      "\n",
      "\n",
      "El número atómico Z=76 tiene la mayor energía por nucleón cuando A=182\n",
      " con energía 7.946838055684514\n",
      "\n",
      "\n",
      "El número atómico Z=77 tiene la mayor energía por nucleón cuando A=185\n",
      " con energía 7.921016888554693\n",
      "\n",
      "\n",
      "El número atómico Z=78 tiene la mayor energía por nucleón cuando A=188\n",
      " con energía 7.904575879934101\n",
      "\n",
      "\n",
      "El número atómico Z=79 tiene la mayor energía por nucleón cuando A=191\n",
      " con energía 7.87868400232803\n",
      "\n",
      "\n",
      "El número atómico Z=80 tiene la mayor energía por nucleón cuando A=192\n",
      " con energía 7.862438691993173\n",
      "\n",
      "\n",
      "El número atómico Z=81 tiene la mayor energía por nucleón cuando A=195\n",
      " con energía 7.837047201045294\n",
      "\n",
      "\n",
      "El número atómico Z=82 tiene la mayor energía por nucleón cuando A=198\n",
      " con energía 7.82033857608665\n",
      "\n",
      "\n",
      "El número atómico Z=83 tiene la mayor energía por nucleón cuando A=201\n",
      " con energía 7.794899333942829\n",
      "\n",
      "\n",
      "El número atómico Z=84 tiene la mayor energía por nucleón cuando A=204\n",
      " con energía 7.777785761025879\n",
      "\n",
      "\n",
      "El número atómico Z=85 tiene la mayor energía por nucleón cuando A=205\n",
      " con energía 7.75239433360284\n",
      "\n",
      "\n",
      "El número atómico Z=86 tiene la mayor energía por nucleón cuando A=208\n",
      " con energía 7.735485475322137\n",
      "\n",
      "\n",
      "El número atómico Z=87 tiene la mayor energía por nucleón cuando A=211\n",
      " con energía 7.710478810144077\n",
      "\n",
      "\n",
      "El número atómico Z=88 tiene la mayor energía por nucleón cuando A=214\n",
      " con energía 7.693222175964614\n",
      "\n",
      "\n",
      "El número atómico Z=89 tiene la mayor energía por nucleón cuando A=217\n",
      " con energía 7.668228396728228\n",
      "\n",
      "\n",
      "El número atómico Z=90 tiene la mayor energía por nucleón cuando A=220\n",
      " con energía 7.65068598823387\n",
      "\n",
      "\n",
      "El número atómico Z=91 tiene la mayor energía por nucleón cuando A=223\n",
      " con energía 7.625739835440575\n",
      "\n",
      "\n",
      "El número atómico Z=92 tiene la mayor energía por nucleón cuando A=224\n",
      " con energía 7.608214013689897\n",
      "\n",
      "\n",
      "El número atómico Z=93 tiene la mayor energía por nucleón cuando A=227\n",
      " con energía 7.583639834526779\n",
      "\n",
      "\n",
      "El número atómico Z=94 tiene la mayor energía por nucleón cuando A=230\n",
      " con energía 7.566035830526522\n",
      "\n",
      "\n",
      "El número atómico Z=95 tiene la mayor energía por nucleón cuando A=233\n",
      " con energía 7.5415108314640555\n",
      "\n",
      "\n",
      "El número atómico Z=96 tiene la mayor energía por nucleón cuando A=236\n",
      " con energía 7.523703637516345\n",
      "\n",
      "\n",
      "El número atómico Z=97 tiene la mayor energía por nucleón cuando A=239\n",
      " con energía 7.499251800171257\n",
      "\n",
      "\n",
      "El número atómico Z=98 tiene la mayor energía por nucleón cuando A=242\n",
      " con energía 7.481279349508352\n",
      "\n",
      "\n",
      "El número atómico Z=99 tiene la mayor energía por nucleón cuando A=243\n",
      " con energía 7.456937323389022\n",
      "\n",
      "\n",
      "El número atómico Z=100 tiene la mayor energía por nucleón cuando A=246\n",
      " con energía 7.439122944429214\n",
      "\n",
      "\n"
     ]
    }
   ],
   "source": [
    "Z=np.arange(1,101)\n",
    "MAXbindEnergies=[]\n",
    "MAX_A=[]\n",
    "\n",
    "for z in Z:\n",
    "\n",
    "    maxBindE=0    \n",
    "    \n",
    "    for a in np.arange(z,3*z+1):\n",
    "        if Binding_energy(a,z,ret='b/a') > maxBindE:\n",
    "            maxBindE=Binding_energy(a,z,ret='b/a')\n",
    "            MaxA=a\n",
    "    MAXbindEnergies.append(maxBindE)\n",
    "    MAX_A.append(MaxA)\n",
    "\n",
    "\n",
    "    print(\"El número atómico Z={0} tiene la mayor energía por nucleón cuando A={1}\\n con energía {2}\\n\\n\"\n",
    "          .format(z,MaxA,maxBindE))"
   ]
  },
  {
   "cell_type": "code",
   "execution_count": 8,
   "metadata": {},
   "outputs": [
    {
     "name": "stdout",
     "output_type": "stream",
     "text": [
      "Z=28 tiene el valor máximo de B/A con A = 62 y B/A=8.70245768367189 MeV\n"
     ]
    }
   ],
   "source": [
    "Z_max_index= np.argmax(MAXbindEnergies)\n",
    "print(\"Z={} tiene el valor máximo de B/A con A = {} y B/A={} MeV\"\n",
    "      .format(Z[Z_max_index],MAX_A[Z_max_index],MAXbindEnergies[Z_max_index]))"
   ]
  },
  {
   "cell_type": "markdown",
   "metadata": {},
   "source": [
    "![ex2](images/ex2.png)"
   ]
  },
  {
   "cell_type": "markdown",
   "metadata": {},
   "source": [
    "# Parte a)"
   ]
  },
  {
   "cell_type": "markdown",
   "metadata": {},
   "source": [
    "Comenzando con la ecuación cuadrática\n",
    "\\begin{gather*}\n",
    "v_2^2 - 2\\frac{GM}{v_1\\ell_1}v_2 - \\left[ v_1^2 - \\frac{2GM}{\\ell_1} \\right]=0\\\\\n",
    "v_2 = \\frac{\\frac{2GM}{v_1 \\ell_1} \\pm \\sqrt{(2GM/v_1 \\ell_1)^2 - 4(1)(-v_1^2 + \\frac{2GM}{\\ell_1})}}{2}\\\\\n",
    "v_2 = \\frac{GM}{v_1 \\ell_1} \\pm \\sqrt{\\left(\\frac{2GM}{v_1 \\ell_1}\\right)^2 + \\frac{4(v_1^2 \\ell_1 - 2GM)v^2_1 \\ell_1}{(v_1 \\ell_1)^2}}\\\\\n",
    "v_2 = \\frac{GM}{v_1 \\ell_1} \\pm \\frac{2\\sqrt{(GM)^2 -2(GM)v_1^2\\ell_1 + (v_1^2\\ell_1)^2}  }{2v_1\\ell_1}\\\\\n",
    "v_2= \\frac{GM}{v_1 \\ell_1} \\pm \\frac{\\sqrt{(GM-v_1^2\\ell_1)^2}}{v_1 \\ell_1}\\\\\n",
    "v_2 =  \\frac{GM}{v_1 \\ell_1} \\pm \\left(\\frac{GM}{v_1\\ell_1} - v^2_1 \\ell_1\\right)\n",
    "\\end{gather*}"
   ]
  },
  {
   "cell_type": "markdown",
   "metadata": {},
   "source": [
    "Si tomamos el valor $(+)$ obtenemos que "
   ]
  },
  {
   "cell_type": "markdown",
   "metadata": {},
   "source": [
    "$$v_2= \\frac{GM}{v_1 \\ell_1} + \\frac{GM}{v_1\\ell_1} - v^2_1 \\ell_1= 2\\frac{GM}{v_1\\ell_1} -v_1 $$\n",
    "Si tomamos el valor $(-)$ obtenemos\n",
    "\n",
    "$$v_2= \\frac{GM}{v_1 \\ell_1} - \\frac{GM}{v_1\\ell_1} + v^2_1 \\ell_1= v_1 $$"
   ]
  },
  {
   "cell_type": "markdown",
   "metadata": {},
   "source": [
    "El problema con este segundo resultado es que sabemos que  por la segunda Ley de Kepler, la velocidad en afelio debe ser menor que la velocidad en perihelio $(v_2 < v_1)$ por lo tanto el término menor es el término $(+)$ con \n",
    "$$v_2 = 2\\frac{GM}{v_1\\ell_1} -v_1$$"
   ]
  },
  {
   "cell_type": "markdown",
   "metadata": {},
   "source": [
    "# Parte b) y c)\n",
    "## Valores para la Tierra"
   ]
  },
  {
   "cell_type": "code",
   "execution_count": 9,
   "metadata": {
    "scrolled": true
   },
   "outputs": [
    {
     "name": "stdout",
     "output_type": "stream",
     "text": [
      "Ingrese velocidad en perihelio\n",
      "3.0287e4\n",
      "Ingrese distancia en perihelio\n",
      "1.4710e11\n"
     ]
    }
   ],
   "source": [
    "#Definimos los parámetros\n",
    "# v1=3.0287e4\n",
    "# l1=1.4710e11\n",
    "M= 1.9891e30 #Kg\n",
    "G= 6.6738e-11\n",
    "v1=float(input(\"Ingrese velocidad en perihelio\\n\"))\n",
    "l1=float(input(\"Ingrese distancia en perihelio\\n\"))"
   ]
  },
  {
   "cell_type": "markdown",
   "metadata": {},
   "source": [
    "Calculamos $v_2,\\ell_2,T$ y $e$ "
   ]
  },
  {
   "cell_type": "code",
   "execution_count": 10,
   "metadata": {},
   "outputs": [],
   "source": [
    "v2 = 2*G*M/(v1*l1) - v1\n",
    "l2 = l1*v1/v2\n",
    "a=.5*(l1+l2)\n",
    "b= (l1*l2)**.5\n",
    "T=2*np.pi*a*b/(l1*v1)/(3600*24*365) # years\n",
    "e=(l2-l1)/(l2+l1)"
   ]
  },
  {
   "cell_type": "code",
   "execution_count": 11,
   "metadata": {
    "scrolled": true
   },
   "outputs": [
    {
     "name": "stdout",
     "output_type": "stream",
     "text": [
      "Para la tierra\n",
      "l2 = 152,027,197,208.65976 m\n",
      "v2 = 29,305.399177261308 m/s\n",
      "T = 1.0002238777234556 años\n",
      "e = 0.016471913134741584\n"
     ]
    }
   ],
   "source": [
    "print(\"Para la tierra\\nl2 = {:,} m\\nv2 = {:,} m/s\\nT = {:,} años\\ne = {:,}\".format(l2,v2,T,e))"
   ]
  },
  {
   "cell_type": "markdown",
   "metadata": {},
   "source": [
    "## Para el cometa Halley"
   ]
  },
  {
   "cell_type": "code",
   "execution_count": 12,
   "metadata": {},
   "outputs": [
    {
     "name": "stdout",
     "output_type": "stream",
     "text": [
      "Ingrese velocidad en perihelio\n",
      "5.4529e4\n",
      "Ingrese distancia en perihelio\n",
      "8.7830e10\n"
     ]
    }
   ],
   "source": [
    "# v1=5.4529e4\n",
    "# l1=8.7830e10\n",
    "\n",
    "v1=float(input(\"Ingrese velocidad en perihelio\\n\"))\n",
    "l1=float(input(\"Ingrese distancia en perihelio\\n\"))"
   ]
  },
  {
   "cell_type": "code",
   "execution_count": 13,
   "metadata": {},
   "outputs": [],
   "source": [
    "v2 = 2*G*M/(v1*l1) - v1\n",
    "l2 = l1*v1/v2\n",
    "a=.5*(l1+l2)\n",
    "b= (l1*l2)**.5\n",
    "T=2*np.pi*a*b/(l1*v1)/(3600*24*365) # years\n",
    "e=(l2-l1)/(l2+l1)"
   ]
  },
  {
   "cell_type": "code",
   "execution_count": 14,
   "metadata": {
    "scrolled": true
   },
   "outputs": [
    {
     "name": "stdout",
     "output_type": "stream",
     "text": [
      "Para el cometa Halley\n",
      "l2 = 5,282,214,660,876.42 m\n",
      "v2 = 906.680696919153 m/s\n",
      "T = 76.08170065465417 años\n",
      "e = 0.967288912645406\n"
     ]
    }
   ],
   "source": [
    "print(\"Para el cometa Halley\\nl2 = {:,} m\\nv2 = {:,} m/s\\nT = {:,} años\\ne = {:,}\".format(l2,v2,T,e))"
   ]
  }
 ],
 "metadata": {
  "kernelspec": {
   "display_name": "Python 3",
   "language": "python",
   "name": "python3"
  },
  "language_info": {
   "codemirror_mode": {
    "name": "ipython",
    "version": 3
   },
   "file_extension": ".py",
   "mimetype": "text/x-python",
   "name": "python",
   "nbconvert_exporter": "python",
   "pygments_lexer": "ipython3",
   "version": "3.8.5"
  }
 },
 "nbformat": 4,
 "nbformat_minor": 4
}
