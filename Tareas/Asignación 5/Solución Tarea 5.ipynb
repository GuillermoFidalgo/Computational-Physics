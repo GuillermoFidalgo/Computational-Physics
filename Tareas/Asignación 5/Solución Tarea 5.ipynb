{
 "cells": [
  {
   "cell_type": "markdown",
   "metadata": {},
   "source": [
    "![problem1](Problem1.png)"
   ]
  },
  {
   "cell_type": "code",
   "execution_count": 1,
   "metadata": {},
   "outputs": [],
   "source": [
    "import numpy as np\n",
    "import matplotlib.pyplot as plt\n",
    "def f(x):\n",
    "    return (np.sin((100*x)**.5))**2\n",
    "    \n",
    "def trapezoid(f,a=0,b=1,h=1,N=1):\n",
    "    h=(b-a)/N\n",
    "    s = 0.5*f(a) + 0.5*f(b)\n",
    "    for k in range(1,N):\n",
    "        s += f(a+k*h)\n",
    "    return h*s"
   ]
  },
  {
   "cell_type": "markdown",
   "metadata": {},
   "source": [
    "\\section*{a)}"
   ]
  },
  {
   "cell_type": "code",
   "execution_count": 2,
   "metadata": {
    "scrolled": true
   },
   "outputs": [
    {
     "name": "stdout",
     "output_type": "stream",
     "text": [
      "N =    1\t I = 0.1479795\t error = N/A\n",
      "N =    2\t I = 0.3252319\t error = 0.0590841\n",
      "N =    4\t I = 0.5122829\t error = 0.0623503\n",
      "N =    8\t I = 0.4029974\t error = -0.0364285\n",
      "N =   16\t I = 0.4301034\t error = 0.0090353\n",
      "N =   32\t I = 0.4484147\t error = 0.0061038\n",
      "N =   64\t I = 0.4539129\t error = 0.0018328\n",
      "N =  128\t I = 0.4553485\t error = 0.0004785\n",
      "N =  256\t I = 0.4557113\t error = 0.0001209\n",
      "N =  512\t I = 0.4558022\t error = 0.0000303\n",
      "N = 1024\t I = 0.4558249\t error = 0.0000076\n",
      "N = 2048\t I = 0.4558306\t error = 0.0000019\n",
      "N = 4096\t I = 0.4558321\t error = 0.0000005\n"
     ]
    }
   ],
   "source": [
    "N = 1 # Número inicial de pasos \n",
    "a=0\n",
    "b=1\n",
    "h=(b-a)/N\n",
    "I=[]\n",
    "k =0\n",
    "\n",
    "epsilon,err= 1e-6,1\n",
    "\n",
    "I.append(trapezoid(f,N=1)) # valor inicial $I_1$\n",
    "print(\"N = {:4}\\t I = {:.7f}\\t error = N/A\".format(N,I[0]))\n",
    "\n",
    "while abs(err) > epsilon:\n",
    "    N=2*N\n",
    "    h = h/2\n",
    "    s=0\n",
    "    for n in range(1,N,2):\n",
    "        s+= f(a+n*h)\n",
    "    i= .5*I[k] + h*s\n",
    "    I.append(i)\n",
    "    k+=1\n",
    "    err =  (I[k] - I[k-1])/3    \n",
    "    print(\"N = {:4}\\t I = {:.7f}\\t error = {:.7f}\".format(N,i,err))\n"
   ]
  },
  {
   "cell_type": "markdown",
   "metadata": {},
   "source": [
    "\\section*{b)}"
   ]
  },
  {
   "cell_type": "code",
   "execution_count": 3,
   "metadata": {},
   "outputs": [],
   "source": [
    "def romberg(f,a,b,h,N,precision=1e-6):\n",
    "    R=[]\n",
    "    I1=trapezoid(f,a,b,h,N)\n",
    "    R.append([I1])\n",
    "    ERR=[]\n",
    "    err=1\n",
    "    i=1\n",
    "    while abs(err) > precision:\n",
    "        N=2*N\n",
    "        h=h/2\n",
    "        s=0\n",
    "        for n in range(1,N,2):\n",
    "            s+= f(a+n*h)\n",
    "        I_1m= .5*I1 + h*s\n",
    "        R.append([I_1m])\n",
    "        I1=I_1m\n",
    "        \n",
    "        \n",
    "        for m in range(1,i+1):\n",
    "            err= (1/(4**m-1))*(R[i][m-1] - R[i-1][m-1])\n",
    "            ERR.append(err)\n",
    "            R_im= R[i][m-1] + err\n",
    "            R[i].append(R_im)\n",
    "        i+=1\n",
    "        \n",
    "    return R,ERR,N"
   ]
  },
  {
   "cell_type": "code",
   "execution_count": 4,
   "metadata": {
    "scrolled": true
   },
   "outputs": [
    {
     "name": "stdout",
     "output_type": "stream",
     "text": [
      "[0.147979484546652]\n",
      "[0.3252319078064746, 0.38431604889308213]\n",
      "[0.5122828507233315, 0.5746331650289505, 0.5873209727713417]\n",
      "[0.4029974484782483, 0.3665689810632206, 0.35269803546550527, 0.34897386185747614]\n",
      "[0.43010336929474696, 0.4391386762335798, 0.4439766559116038, 0.4454255229028117, 0.4458037647108326]\n",
      "[0.44841466578746997, 0.4545184312850443, 0.45554374828847527, 0.455727352929378, 0.4557677522628155, 0.45577749223109704]\n",
      "[0.4539129312153758, 0.45574568635801105, 0.4558275033628755, 0.45583200741167545, 0.45583241782140993, 0.45583248103309965, 0.4558324944613785]\n",
      "\n",
      "N = 64 steps\n"
     ]
    }
   ],
   "source": [
    "N=1\n",
    "a=0\n",
    "b=1\n",
    "h=(b-a)/N\n",
    "\n",
    "r=romberg(f,a,b,h,N)\n",
    "\n",
    "\n",
    "for i in r[0]:\n",
    "    print(i)\n",
    "print(\"\\nN = {} steps\".format(r[2]))"
   ]
  },
  {
   "cell_type": "markdown",
   "metadata": {},
   "source": [
    "![problem1](Problem2.png)"
   ]
  },
  {
   "cell_type": "code",
   "execution_count": 5,
   "metadata": {},
   "outputs": [],
   "source": [
    "def adap_simp(f,a=0,b=1,N=2,h=.5):\n",
    "    fa=f(a)\n",
    "    fb=f(b)\n",
    "    integral=0\n",
    "    \n",
    "    for k in range(2,N-1,2):\n",
    "        integral=f(a+k*h)+integral\n",
    "    \n",
    "    S=(integral*2 + fa+fb)*(1/3)\n",
    "    \n",
    "    \n",
    "    integral=0\n",
    "    for k in range(1,N,2):\n",
    "        integral=f(a+k*h)+integral\n",
    "    T=integral*(2/3)\n",
    "    \n",
    "    \n",
    "    integral=h*(S+2*T)\n",
    "    I=integral\n",
    "    return I,S,T"
   ]
  },
  {
   "cell_type": "code",
   "execution_count": 24,
   "metadata": {},
   "outputs": [
    {
     "name": "stdout",
     "output_type": "stream",
     "text": [
      "I = 0.3843160\t N= 2\t error is 1.0000000\n",
      "I = 0.5746332\t N= 4\t error is 0.0126878\n",
      "I = 0.3665690\t N= 8\t error is -0.0138709\n",
      "I = 0.4391387\t N= 16\t error is 0.0048380\n",
      "I = 0.4545184\t N= 32\t error is 0.0010253\n",
      "I = 0.4557457\t N= 64\t error is 0.0000818\n",
      "I = 0.4558270\t N= 128\t error is 0.0000054\n",
      "I = 0.4558322\t N= 256\t error is 0.0000003\n"
     ]
    }
   ],
   "source": [
    "N=2\n",
    "h=.5\n",
    "a=0\n",
    "b=1\n",
    "\n",
    "I,S,T=adap_simp(f,N=N,h=h,a=a,b=b)\n",
    "err = 1\n",
    "tol=1e-6\n",
    "print(\"I = {:.7f}\\t N= {}\\t error is {:.7f}\".format(I,N,err))\n",
    "while abs(err)>tol:\n",
    "    \n",
    "    N=2*N\n",
    "    h=h/2\n",
    "    S=S+T\n",
    "    _,_,T=adap_simp(f,a,b,h=h,N=N)\n",
    "\n",
    "    Inew = h*(S+2*T)\n",
    "    \n",
    "    err=(1/15)*(Inew-I)\n",
    "    I=Inew\n",
    "    print(\"I = {:.7f}\\t N= {}\\t error is {:.7f}\".format(I,N,err))"
   ]
  }
 ],
 "metadata": {
  "kernelspec": {
   "display_name": "Python 3",
   "language": "python",
   "name": "python3"
  },
  "language_info": {
   "codemirror_mode": {
    "name": "ipython",
    "version": 3
   },
   "file_extension": ".py",
   "mimetype": "text/x-python",
   "name": "python",
   "nbconvert_exporter": "python",
   "pygments_lexer": "ipython3",
   "version": "3.7.6"
  }
 },
 "nbformat": 4,
 "nbformat_minor": 4
}
