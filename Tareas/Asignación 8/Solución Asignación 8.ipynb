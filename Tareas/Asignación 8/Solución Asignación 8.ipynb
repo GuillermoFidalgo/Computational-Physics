{
 "cells": [
  {
   "cell_type": "markdown",
   "metadata": {},
   "source": [
    "\\section*{Excercise 6.9}\n",
    "\n",
    "\\subsection*{a)}\n",
    "Noting that, for m,n positive interger \n",
    "\n",
    "\\begin{equation*}\n",
    "\\int_0^L \\sin{\\frac{\\pi m x}{L}}  \\sin{\\frac{\\pi n x}{L}}  dx = \\begin{cases} L/2 & \\text{if } m = n,\\\\\n",
    "0 & \\text{otherwise},\n",
    "\\end{cases}\n",
    "\\end{equation*}\n",
    "\n",
    "show that the Schrödinger equation $\\hat{H}\\psi = E \\psi$ implies that \n",
    "$$ \\sum_{n=1}^\\infty \\psi_n \\int_0^L \\sin{\\frac{\\pi m x}{L}} \\hat{H} \\sin{\\frac{\\pi n x}{L}}  dx = \\frac12 LE\\psi_m$$"
   ]
  },
  {
   "cell_type": "markdown",
   "metadata": {},
   "source": [
    "**Solución**\n",
    "\n",
    "La ecuación de Schrödinger se convierte en \n",
    "\\begin{gather*}\n",
    "\\hat H\\psi = E\\psi \\\\\n",
    "\\hat H \\sum_{n=1}^\\infty \\psi_n  \\sin{\\frac{\\pi n x}{L}} = E    \\sum_{n=1}^\\infty \\psi_n  \\sin{\\frac{\\pi n x}{L}} \n",
    "\\end{gather*}\n"
   ]
  },
  {
   "cell_type": "markdown",
   "metadata": {},
   "source": [
    "Ahora solo multiplicamos por $\\sin{\\dfrac{\\pi m x}{L}}$ e integramos "
   ]
  },
  {
   "cell_type": "markdown",
   "metadata": {},
   "source": [
    "\\begin{gather*}\n",
    "\\sum_{n=1}^\\infty \\psi_n \\int_0^L \\sin{\\frac{\\pi m x}{L}} \\hat{H} \\sin{\\frac{\\pi n x}{L}}  dx = E\\int_0^L     \\sum_{n=1}^\\infty \\psi_n \\sin{\\frac{\\pi m x}{L}} \\sin{\\frac{\\pi n x}{L}} dx \\\\\n",
    "\\end{gather*}"
   ]
  },
  {
   "cell_type": "markdown",
   "metadata": {},
   "source": [
    "Obtenemos al lado derecho 0 a menos que $m=n$ por lo tanto "
   ]
  },
  {
   "cell_type": "markdown",
   "metadata": {},
   "source": [
    "$$ \\sum_{n=1}^\\infty \\psi_n \\int_0^L \\sin{\\frac{\\pi m x}{L}} \\hat{H} \\sin{\\frac{\\pi n x}{L}}  dx = E   \\psi_m\\int_0^L   \\sin{\\frac{\\pi m x}{L}} \\sin{\\frac{\\pi m x}{L}} dx$$"
   ]
  },
  {
   "cell_type": "markdown",
   "metadata": {},
   "source": [
    "Obtenemos \n",
    "$$ \\sum_{n=1}^\\infty \\psi_n \\int_0^L \\sin{\\frac{\\pi m x}{L}} \\hat{H} \\sin{\\frac{\\pi n x}{L}}  dx = \\frac12 LE\\psi_m$$"
   ]
  },
  {
   "cell_type": "markdown",
   "metadata": {},
   "source": [
    "Por lo tanto los elementos del operador $\\hat H$ son\n",
    "\\begin{gather*}\n",
    "H_{mn} = \\frac2L \\int_0^L  \\sin{\\frac{\\pi m x}{L}} \\hat{H} \\sin{\\frac{\\pi n x}{L}}  dx \\\\\n",
    " = \\frac2L \\int_0^L  \\sin{\\frac{\\pi m x}{L}}\\left[ -\\frac{\\hbar^2}{2M} \\frac{d^2}{dx^2} + V(x) \\right] \\sin{\\frac{\\pi n x}{L}}  dx\\\\\n",
    " =  \\frac2L \\int_0^L  \\sin{\\frac{\\pi m x}{L}}\\left[ \\frac{\\hbar^2}{2M}(\\frac{\\pi n }{L})^2\\sin{\\frac{\\pi n x}{L}}  + V(x)\\sin{\\frac{\\pi n x}{L}} \\right] dx\n",
    "\\end{gather*}"
   ]
  },
  {
   "cell_type": "markdown",
   "metadata": {},
   "source": [
    "\\subsection*{b)}"
   ]
  },
  {
   "cell_type": "markdown",
   "metadata": {},
   "source": [
    "For the case $V(x) = \\dfrac{ax}{L}$, evaluate the integral in $H_{mn}$ analytically and find a general expression for the matrix elements. Show that the matrix is real and symmetric. Note that \n",
    "$$\\int_0^L x\\sin \\frac{\\pi m x}{L} \\sin\\frac{\\pi n x}{L} dx =\n",
    "\\begin{cases} \n",
    "0 & \\text{if $m\\neq n$ and both even or odd}\\\\\n",
    "- \\left(\\dfrac{2L}{\\pi} \\right)^2 \\dfrac{mn}{(m^2 -n^2)^2} & \\text{if $m \\neq n$ and one is even, one is odd} \\\\\n",
    "\\dfrac{L^2}{4} & \\text{if $ m=n$}\n",
    "\\end{cases}\n",
    "$$"
   ]
  },
  {
   "cell_type": "markdown",
   "metadata": {},
   "source": [
    "Write a Python program to evaluate your expression for $H_{mn}$ for arbitrary $m$ and $n$ when the particle is an electron."
   ]
  },
  {
   "cell_type": "markdown",
   "metadata": {},
   "source": [
    "**Solución**"
   ]
  },
  {
   "cell_type": "markdown",
   "metadata": {},
   "source": [
    "\\begin{gather*}\n",
    "\\frac2L \\int_0^L \\sin{\\frac{\\pi m x}{L}}\\left[ \\frac{\\hbar^2}{2M}(\\frac{\\pi n }{L})^2\\sin{\\frac{\\pi n x}{L}}  + V(x)\\sin{\\frac{\\pi n x}{L}} \\right] dx \\\\\n",
    "=\\frac2L \\int_0^L \\sin{\\frac{\\pi m x}{L}}\\left[\\frac{\\hbar^2}{2M}(\\frac{\\pi n }{L})^2\\sin{\\frac{\\pi n x}{L}}  +  \\frac{ax}{L} \\sin{\\frac{\\pi n x}{L}} \\right] dx \\\\\n",
    "=\\frac2L \\int_0^L \\frac{\\hbar^2}{2M}(\\frac{\\pi n }{L})^2\\sin{\\frac{\\pi m x}{L}}\\sin{\\frac{\\pi n x}{L}}  +  \\frac{ax}{L} \\sin{\\frac{\\pi m x}{L}} \\sin{\\frac{\\pi n x}{L}} dx \n",
    "\\end{gather*}"
   ]
  },
  {
   "cell_type": "markdown",
   "metadata": {},
   "source": [
    "$$= \\begin{cases}\n",
    " \\dfrac{\\hbar^2}{2M}(\\dfrac{\\pi n }{L})^2 +  \\dfrac{a}{2} & \\text{if $m=n$}\\\\\n",
    " - \\left(\\dfrac{2}{\\pi} \\right)^2 \\dfrac{2amn}{(m^2 -n^2)^2}  & \\text{if $m\\neq n$, and one is even one is odd}\\\\\n",
    " 0 & \\text{if $m\\neq n$ and both are even or odd}\n",
    "\\end{cases}$$"
   ]
  },
  {
   "cell_type": "markdown",
   "metadata": {},
   "source": [
    "Es facil ver que el operador $\\hat H$ es real ya que ninguno de sus $n\\times m$ elementos son complejos. Para ver que el operador es simétrico entonces $ \\hat H^T= \\hat H \\to  H_{ij} = H_{ji}$. Tenemos las siguientes observaciones:\n",
    "\n",
    "1. Sabemos que si $n=m$ los elementos $H_{mm}$ corresponden a las diagonales y estas no se mueven bajo la transpuesta.\n",
    "2. Sabemos que para los elementos donde n y m son distintos pero ambos son pares o ambos son impares $H_{mn}$  obtiene el valor de 0. Osea $H_{24}=H_{26}=H_{28}\\dots =H_{42} =H_{62} = H_{82}\\dots =H_{35} = H_{53} \\dots = H_{mn} = H_{nm}$.\n",
    "2. Sabemos que si $n\\neq m$ y uno es par pero el otro es impar entonces $H_{mn}=0$.\n",
    "\n",
    "\n",
    "Un ejemplo de una matriz así es \n",
    "\n",
    "$$ \\begin{pmatrix}\n",
    "\\xmat{H}{5}{5}\n",
    "\\end{pmatrix}\n",
    "$$"
   ]
  },
  {
   "cell_type": "markdown",
   "metadata": {},
   "source": [
    "aplicando nuestras observaciones este operador es real y simétrico\n"
   ]
  },
  {
   "cell_type": "code",
   "execution_count": 1,
   "metadata": {},
   "outputs": [],
   "source": [
    "import numpy as np\n",
    "from math import pi\n",
    "def H(m,n,Mass=9.1094e-31,width=5e-10,a=10):\n",
    "    L= width\n",
    "    hbar = 6.5821e-16 #eV*s\n",
    "    H_mn = np.zeros((m,n))\n",
    "    for i in range(1,m+1):\n",
    "        for j in range(1,n+1):\n",
    "            if i == j :\n",
    "                H_mn[i-1,j-1] = (pi*i/L)**2 *(hbar**2 / (2*Mass))*(1.6022e-19) + a/2\n",
    "            elif i!=j and not i%2 ==j%2:\n",
    "                H_mn[i-1,j-1] = -(2/pi)**2 *(2*a*i*j/(i**2 - j**2)**2)\n",
    "            elif i!=j and  i%2 ==j%2 :\n",
    "                H_mn[i-1,j-1]=0\n",
    "    return H_mn\n",
    "    \n",
    "# para V(x) = ax/L"
   ]
  },
  {
   "cell_type": "code",
   "execution_count": 2,
   "metadata": {},
   "outputs": [
    {
     "data": {
      "text/plain": [
       "array([[ 6.50413095, -1.80126549,  0.        ],\n",
       "       [-1.80126549, 11.0165238 , -1.94536673],\n",
       "       [ 0.        , -1.94536673, 18.53717856]])"
      ]
     },
     "execution_count": 2,
     "metadata": {},
     "output_type": "execute_result"
    }
   ],
   "source": [
    "H(3,3)"
   ]
  },
  {
   "cell_type": "markdown",
   "metadata": {},
   "source": [
    "\\subsection*{c)}"
   ]
  },
  {
   "cell_type": "markdown",
   "metadata": {},
   "source": [
    "Modify the program to create a $10 \\times 10$ array elements of **H** up to $m,n=10$. Calculate the eigenvalues of this matrix using `numpy.linalg` and print out in units of electron volts, the first 10 energy levels of the quantum well. "
   ]
  },
  {
   "cell_type": "code",
   "execution_count": 3,
   "metadata": {},
   "outputs": [
    {
     "data": {
      "text/plain": [
       "array([[ 6.50413095e+00, -1.80126549e+00,  0.00000000e+00,\n",
       "        -1.44101239e-01,  0.00000000e+00, -3.97013618e-02,\n",
       "         0.00000000e+00, -1.63380090e-02,  0.00000000e+00,\n",
       "        -8.27027313e-03],\n",
       "       [-1.80126549e+00,  1.10165238e+01, -1.94536673e+00,\n",
       "         0.00000000e+00, -1.83802601e-01,  0.00000000e+00,\n",
       "        -5.60393707e-02,  0.00000000e+00, -2.46082821e-02,\n",
       "         0.00000000e+00],\n",
       "       [ 0.00000000e+00, -1.94536673e+00,  1.85371786e+01,\n",
       "        -1.98506809e+00,  0.00000000e+00, -2.00140610e-01,\n",
       "         0.00000000e+00, -6.43096438e-02,  0.00000000e+00,\n",
       "        -2.93649125e-02],\n",
       "       [-1.44101239e-01,  0.00000000e+00, -1.98506809e+00,\n",
       "         2.90660952e+01, -2.00140610e+00,  0.00000000e+00,\n",
       "        -2.08410883e-01,  0.00000000e+00, -6.90662743e-02,\n",
       "         0.00000000e+00],\n",
       "       [ 0.00000000e+00, -1.83802601e-01,  0.00000000e+00,\n",
       "        -2.00140610e+00,  4.26032738e+01, -2.00967637e+00,\n",
       "         0.00000000e+00, -2.13167513e-01,  0.00000000e+00,\n",
       "        -7.20506195e-02],\n",
       "       [-3.97013618e-02,  0.00000000e+00, -2.00140610e-01,\n",
       "         0.00000000e+00, -2.00967637e+00,  5.91487142e+01,\n",
       "        -2.01443300e+00,  0.00000000e+00, -2.16151858e-01,\n",
       "         0.00000000e+00],\n",
       "       [ 0.00000000e+00, -5.60393707e-02,  0.00000000e+00,\n",
       "        -2.08410883e-01,  0.00000000e+00, -2.01443300e+00,\n",
       "         7.87024166e+01, -2.01741735e+00,  0.00000000e+00,\n",
       "        -2.18146339e-01],\n",
       "       [-1.63380090e-02,  0.00000000e+00, -6.43096438e-02,\n",
       "         0.00000000e+00, -2.13167513e-01,  0.00000000e+00,\n",
       "        -2.01741735e+00,  1.01264381e+02, -2.01941183e+00,\n",
       "         0.00000000e+00],\n",
       "       [ 0.00000000e+00, -2.46082821e-02,  0.00000000e+00,\n",
       "        -6.90662743e-02,  0.00000000e+00, -2.16151858e-01,\n",
       "         0.00000000e+00, -2.01941183e+00,  1.26834607e+02,\n",
       "        -2.02081031e+00],\n",
       "       [-8.27027313e-03,  0.00000000e+00, -2.93649125e-02,\n",
       "         0.00000000e+00, -7.20506195e-02,  0.00000000e+00,\n",
       "        -2.18146339e-01,  0.00000000e+00, -2.02081031e+00,\n",
       "         1.55413095e+02]])"
      ]
     },
     "execution_count": 3,
     "metadata": {},
     "output_type": "execute_result"
    }
   ],
   "source": [
    "H(10,10)"
   ]
  },
  {
   "cell_type": "code",
   "execution_count": 4,
   "metadata": {},
   "outputs": [
    {
     "name": "stdout",
     "output_type": "stream",
     "text": [
      "La energía en el estado base es de 5.836391175194077 eV\n"
     ]
    }
   ],
   "source": [
    "print(\"La energía en el estado base es de {} eV\".format(np.linalg.eigvalsh(H(10,10))[0]))"
   ]
  },
  {
   "cell_type": "markdown",
   "metadata": {},
   "source": [
    "\\clearpage"
   ]
  },
  {
   "cell_type": "markdown",
   "metadata": {},
   "source": [
    "OJO EJEMPLO 9.2 NO SE ENCUENTRA EN EL LIBRO!!!!"
   ]
  },
  {
   "cell_type": "markdown",
   "metadata": {},
   "source": [
    "![](problema2.png)"
   ]
  },
  {
   "cell_type": "code",
   "execution_count": 5,
   "metadata": {},
   "outputs": [],
   "source": [
    "from numpy import sqrt, zeros, empty,max\n",
    "from pylab import imshow, show, gray,colorbar\n",
    "import matplotlib.pyplot as plt"
   ]
  },
  {
   "cell_type": "code",
   "execution_count": 6,
   "metadata": {},
   "outputs": [],
   "source": [
    "# Constants\n",
    "M = 100         # Grid squares on a side\n",
    "target = 1e-6   # Target accuracy\n",
    "epsilon_0 = 1 \n",
    "a=1\n",
    "# Create arrays to hold potential values\n",
    "phi = zeros([M+1,M+1],float)\n",
    "\n",
    "phiprime = empty([M+1,M+1],float)\n",
    "\n",
    "charge=1 # charge density in C/m^2\n",
    "\n",
    "def rho(i, j):\n",
    "    if 20 < i < 40 and 60 < j < 80:\n",
    "        return charge\n",
    "    elif 60 < i < 80 and 20 < j < 40:\n",
    "        return -charge\n",
    "    else:\n",
    "        return 0 \n",
    "    \n",
    "    \n",
    "# Main loop\n",
    "delta = 1.0\n",
    "iter=0\n",
    "while delta>target:\n",
    "\n",
    "    # Calculate new values of the potential\n",
    "    for i in range(M+1):\n",
    "        for j in range(M+1):\n",
    "            if i==0 or i==M or j==0 or j==M:\n",
    "                phiprime[i,j] = phi[i,j]\n",
    "            else:\n",
    "                phiprime[i,j] = (phi[i+1,j] + phi[i-1,j] \\\n",
    "                                 + phi[i,j+1] + phi[i,j-1])/4 + a**2 *rho(i,j)/(4*epsilon_0)\n",
    "    iter+=1\n",
    "    # Calculate maximum difference from old values\n",
    "    delta = max(abs(phi-phiprime))\n",
    "\n",
    "    # Swap the two arrays around\n",
    "    phi,phiprime = phiprime,phi"
   ]
  },
  {
   "cell_type": "code",
   "execution_count": 7,
   "metadata": {},
   "outputs": [
    {
     "name": "stdout",
     "output_type": "stream",
     "text": [
      "Toma 9145 iteraciones\n"
     ]
    },
    {
     "data": {
      "image/png": "[encoded data removed]",
      "text/plain": [
       "<Figure size 432x288 with 2 Axes>"
      ]
     },
     "metadata": {
      "needs_background": "light"
     },
     "output_type": "display_data"
    }
   ],
   "source": [
    "print(\"Toma {} iteraciones\".format(iter))\n",
    "# Make a plot\n",
    "imshow(phi)\n",
    "colorbar()\n",
    "gray()\n",
    "show()"
   ]
  },
  {
   "cell_type": "markdown",
   "metadata": {},
   "source": [
    "\\newpage"
   ]
  },
  {
   "cell_type": "markdown",
   "metadata": {},
   "source": [
    "![](problema3.png)"
   ]
  },
  {
   "cell_type": "code",
   "execution_count": null,
   "metadata": {},
   "outputs": [
    {
     "name": "stdout",
     "output_type": "stream",
     "text": [
      "Para omega= 0.89 hubo 471 iteraciones con delta =9.977841521902064e-07\n",
      "Para omega= 0.90 hubo 423 iteraciones con delta =9.885198457570965e-07\n"
     ]
    }
   ],
   "source": [
    "# Constants\n",
    "M = 100         # Grid squares on a side\n",
    "V = 1.0         # Voltage at top wall\n",
    "target = 1e-6   # Target accuracy\n",
    "\n",
    "for omega in np.arange(0.89,.96,.01):\n",
    "    # Main loop\n",
    "    # Create arrays to hold potential values\n",
    "    phi = zeros([M+1,M+1],float)\n",
    "    phi[0,:] = V\n",
    "    iter=0\n",
    "    delta = 1\n",
    "    while delta>target:\n",
    "        delta = 0 # reset the error \n",
    "        # Calculate new values of the potential\n",
    "        for i in range(M+1):\n",
    "            for j in range(M+1):\n",
    "                if not i == 0 and not j == 0 and not i == M and not j == M:\n",
    "                    oldphi= phi[i,j]\n",
    "                    phi[i,j] = (1+omega)*(phi[i+1,j] + phi[i-1,j] \\\n",
    "                                               + phi[i,j+1] + phi[i,j-1])/4 - omega*phi[i,j]\n",
    "\n",
    "        # Calculate maximum difference from old values\n",
    "                    delta = max([delta,abs(oldphi-phi[i,j])])\n",
    "            \n",
    "\n",
    "        iter+=1\n",
    "    print('Para omega= {:.2f} hubo {} iteraciones con delta ={}'.format(omega,iter,delta))\n",
    "\n",
    "# Make a plot\n",
    "imshow(phi)\n",
    "colorbar()\n",
    "gray()\n",
    "show()"
   ]
  },
  {
   "cell_type": "markdown",
   "metadata": {},
   "source": [
    "![](problema4.png)"
   ]
  },
  {
   "cell_type": "code",
   "execution_count": null,
   "metadata": {},
   "outputs": [],
   "source": [
    "from pylab import plot,xlabel,ylabel,show,legend,figure"
   ]
  },
  {
   "cell_type": "code",
   "execution_count": null,
   "metadata": {},
   "outputs": [],
   "source": [
    "def Temp(t):\n",
    "    A=10\n",
    "    B=12\n",
    "    tau=365\n",
    "    T0= A+B *np.sin(2*pi*t/tau)\n",
    "    return T0\n",
    "\n",
    "# Constants\n",
    "L = 20      # Thickness of crust in meters\n",
    "D = 0.1  # Thermal diffusivity in m^2 per day\n",
    "N = 100       # Number of divisions in grid\n",
    "a = L/N       # Grid spacing\n",
    "stable=a**2/(2*D)\n",
    "h =  stable /500      # Time-step per day\n",
    "epsilon = h/10\n",
    "\n",
    "Tlo = Temp(0)    # Low temperature in Celcius\n",
    "Tmid = 10.0   # Intermediate temperature in Celcius\n",
    "Thi = 11.0    # Hi temperature in Celcius\n",
    "\n",
    "t1 = 9*365 \n",
    "t2 = t1 + 365/4\n",
    "t3 = t2 + 365/4\n",
    "t4 = t3 + 365/4\n",
    "tend = t4 + epsilon\n",
    "# print(t1,t2,t3,t4)\n",
    "# Create arrays\n",
    "T = empty(N+1,float)\n",
    "T[0] = Tlo\n",
    "T[N] = Thi\n",
    "T[1:N] = Tmid\n",
    "\n",
    "Tp = empty(N+1,float)\n",
    "Tp[0] = Tlo\n",
    "Tp[N] = Thi\n",
    "\n",
    "# print(T,Tp)\n",
    "\n",
    "# Main loop\n",
    "t = 0.0\n",
    "c = h*D/(a*a)\n",
    "# print(h<a**2/(2*D))\n",
    "figure(dpi=120,figsize=(8,6))\n",
    "while t<tend:\n",
    "    T[0]= Temp(t)\n",
    "    # Calculate the new values of T\n",
    "#     for i in range(1,N):\n",
    "#         Tp[i] = T[i] + c*(T[i+1]+T[i-1]-2*T[i])\n",
    "    Tp[1:N] = T[1:N] + c*(T[0:N-1]+T[2:N+1]-2*T[1:N])\n",
    "    T,Tp = Tp,T\n",
    "    t += h\n",
    "    \n",
    "\n",
    "    # Make plots at the given times\n",
    "    if abs(t-t1)<epsilon:\n",
    "        plot(T,label=\"9 years\")\n",
    "        print(\"9 years\")\n",
    "#         print(T)\n",
    "#         show()\n",
    "    if abs(t-t2)<epsilon:\n",
    "        plot(T,label=\"9 years + 3 months\")\n",
    "        print(\"9 years + 3 months\")\n",
    "#         show()\n",
    "    if abs(t-t3)<epsilon:\n",
    "        plot(T,label=\"9 years + 6 months\")\n",
    "        print(\"9 years + 6 months\")\n",
    "#         show()\n",
    "    if abs(t-t4)<epsilon:\n",
    "        plot(T,label=\"9 years + 9 months\")\n",
    "        print(\"9 years + 9 months\")\n",
    "#         show()\n",
    "#     if abs(t-t5)<epsilon:\n",
    "#         plot(T,label=\"9 years + 12 months\")\n",
    "#         print(\"9 years + 12 months\")\n",
    "# #         show()\n",
    "\n",
    "\n",
    "xlabel(\"x\")\n",
    "legend()\n",
    "ylabel(\"T\")\n",
    "show()"
   ]
  }
 ],
 "metadata": {
  "kernelspec": {
   "display_name": "Python 3",
   "language": "python",
   "name": "python3"
  },
  "language_info": {
   "codemirror_mode": {
    "name": "ipython",
    "version": 3
   },
   "file_extension": ".py",
   "mimetype": "text/x-python",
   "name": "python",
   "nbconvert_exporter": "python",
   "pygments_lexer": "ipython3",
   "version": "3.8.5"
  }
 },
 "nbformat": 4,
 "nbformat_minor": 4
}
