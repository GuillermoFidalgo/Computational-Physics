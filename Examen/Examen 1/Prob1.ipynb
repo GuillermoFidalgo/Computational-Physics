{
 "cells": [
  {
   "cell_type": "markdown",
   "metadata": {},
   "source": [
    "\\section*{a)}"
   ]
  },
  {
   "cell_type": "markdown",
   "metadata": {},
   "source": [
    "Si tenemos que \n",
    "$$I(\\omega)= \\frac{\\hbar}{4\\pi^2 c^2}\\frac{\\omega^3}{(e^{\\hbar \\omega / k_B T}-1)}$$"
   ]
  },
  {
   "cell_type": "markdown",
   "metadata": {},
   "source": [
    "Entonces la energía total por unidad de área es $W=\\int I (\\omega) d\\omega$. \n",
    "\n",
    "\\begin{gather*}\n",
    "W =\\frac{\\hbar}{4\\pi^2 c^2}\\int_0^\\infty \\frac{\\omega^3}{(e^{\\hbar \\omega / k_B T}-1)} d\\omega\n",
    "\\end{gather*}"
   ]
  },
  {
   "cell_type": "markdown",
   "metadata": {},
   "source": [
    "hacemos la susitución $$x= \\frac{\\hbar \\omega }{ k_B T} \\to \\omega=\\frac{k_B T }{\\hbar}x$$ y\n",
    "$$ dx = \\frac{\\hbar}{k_B T}d\\omega \\to d\\omega = \\frac{k_B T }{\\hbar} dx$$"
   ]
  },
  {
   "cell_type": "markdown",
   "metadata": {},
   "source": [
    "y obtenemos que \n",
    "\\begin{gather*}\n",
    "W =\\frac{\\hbar}{4\\pi^2 c^2}\\int_0^\\infty \\frac{(k_B T/\\hbar)^3 x^3}{(e^{x}-1)} (k_B T/\\hbar)dx \\\\\n",
    "W= \\frac{k_B^4 T^4}{4\\pi^2 c^2\\hbar^3}\\int_0^\\infty \\frac{x^3}{(e^{x}-1)} dx\n",
    "\\end{gather*}\n",
    "\n"
   ]
  },
  {
   "cell_type": "markdown",
   "metadata": {},
   "source": [
    "\\section*{b)}"
   ]
  },
  {
   "cell_type": "markdown",
   "metadata": {},
   "source": [
    "Tomamos los códigos para [cuadratura de gauss](http://www-personal.umich.edu/~mejn/cp/programs/gaussxw.py) provista por el libro  y para [integración impropia](http://www-personal.umich.edu/~mejn/cp/programs/intinf.py)"
   ]
  },
  {
   "cell_type": "code",
   "execution_count": 1,
   "metadata": {},
   "outputs": [],
   "source": [
    "\n",
    "from numpy import ones,copy,cos,tan,pi,linspace,exp,array,pi\n",
    "\n",
    "def gaussxw(N):\n",
    "\n",
    "    # Initial approximation to roots of the Legendre polynomial\n",
    "    a = linspace(3,4*N-1,N)/(4*N+2)\n",
    "    x = cos(pi*a+1/(8*N*N*tan(a)))\n",
    "\n",
    "    # Find roots using Newton's method\n",
    "    epsilon = 1e-15\n",
    "    delta = 1.0\n",
    "    while delta>epsilon:\n",
    "        p0 = ones(N,float)\n",
    "        p1 = copy(x)\n",
    "        for k in range(1,N):\n",
    "            p0,p1 = p1,((2*k+1)*x*p1-k*p0)/(k+1)\n",
    "        dp = (N+1)*(p0-x*p1)/(1-x*x)\n",
    "        dx = p1/dp\n",
    "        x -= dx\n",
    "        delta = max(abs(dx))\n",
    "\n",
    "    # Calculate the weights\n",
    "    w = 2*(N+1)*(N+1)/(N*N*(1-x*x)*dp*dp)\n",
    "\n",
    "    return x,w\n",
    "\n",
    "def gaussxwab(N,a,b):\n",
    "    x,w = gaussxw(N)\n",
    "    return 0.5*(b-a)*x+0.5*(b+a),0.5*(b-a)*w"
   ]
  },
  {
   "cell_type": "markdown",
   "metadata": {},
   "source": [
    "Cambiamos de variable para que la integral ahora sea de la siguiente forma\n",
    "\\begin{gather*}\n",
    "W= \\frac{k_B^4 T^4}{4\\pi^2 c^2\\hbar^3}\\int_0^\\infty \\frac{x^3}{(e^{x}-1)} dx\\\\\n",
    "= \\frac{k_B^4 T^4}{4\\pi^2 c^2\\hbar^3}\\int_0^1 \\frac{z^3/(1-z)^3}{(e^{(z/(1-z)}-1)} \\frac{1}{(1-z)^2} dz = \\frac{k_B^4 T^4}{4\\pi^2 c^2\\hbar^3}\\int_0^1 \\frac{z^3}{(e^{(z/(1-z)}-1)} \\frac{1}{(1-z)^5} dz\n",
    "\\end{gather*}\n"
   ]
  },
  {
   "cell_type": "markdown",
   "metadata": {},
   "source": [
    "Solo evaluamos el integrando de la expresión (sin incluir las constantes)"
   ]
  },
  {
   "cell_type": "code",
   "execution_count": 2,
   "metadata": {
    "scrolled": true
   },
   "outputs": [],
   "source": [
    "\n",
    "#cambiamos de variable nuestra función en terminos de z\n",
    "\n",
    "def f(z):\n",
    "    return ((z)**3/(exp(z/(1-z))-1))*(1/(1-z)**5)\n",
    "\n",
    "def integrate(f,a,b,N):\n",
    "    x,w = gaussxwab(N,a,b)\n",
    "    s = 0.0\n",
    "    for k in range(N):\n",
    "        s += w[k]*f(x[k])\n",
    "    return s\n"
   ]
  },
  {
   "cell_type": "code",
   "execution_count": 3,
   "metadata": {
    "scrolled": true
   },
   "outputs": [
    {
     "name": "stdout",
     "output_type": "stream",
     "text": [
      "error es 1.2e+01  valor de integral es  2.327907 con N=1\n",
      "error es 9.2e+00  valor de integral es 14.327015 con N=2\n",
      "error es 1.1e+00  valor de integral es  5.106522 con N=3\n",
      "error es 2.8e+00  valor de integral es  4.055851 con N=4\n",
      "error es 5.7e-01  valor de integral es  6.851614 con N=5\n",
      "error es 8.7e-01  valor de integral es  7.418290 con N=6\n",
      "error es 3.9e-01  valor de integral es  6.552743 con N=7\n",
      "error es 2.1e-01  valor de integral es  6.164620 con N=8\n",
      "error es 1.9e-01  valor de integral es  6.378575 con N=9\n",
      "error es 7.4e-03  valor de integral es  6.572143 con N=10\n",
      "error es 6.8e-02  valor de integral es  6.564775 con N=11\n",
      "error es 2.7e-02  valor de integral es  6.496397 con N=12\n",
      "error es 1.1e-02  valor de integral es  6.469618 con N=13\n",
      "error es 1.5e-02  valor de integral es  6.480880 con N=14\n",
      "error es 4.0e-03  valor de integral es  6.495923 con N=15\n",
      "error es 3.2e-03  valor de integral es  6.499877 con N=16\n",
      "error es 3.3e-03  valor de integral es  6.496673 con N=17\n",
      "error es 8.3e-04  valor de integral es  6.493372 con N=18\n",
      "error es 7.0e-04  valor de integral es  6.492543 con N=19\n",
      "error es 7.7e-04  valor de integral es  6.493243 con N=20\n",
      "error es 2.5e-04  valor de integral es  6.494009 con N=21\n",
      "error es 1.2e-04  valor de integral es  6.494260 con N=22\n",
      "error es 1.8e-04  valor de integral es  6.494140 con N=23\n",
      "error es 8.5e-05  valor de integral es  6.493959 con N=24\n",
      "error es 8.0e-06  valor de integral es  6.493874 con N=25\n",
      "error es 4.0e-05  valor de integral es  6.493882 con N=26\n",
      "error es 2.7e-05  valor de integral es  6.493921 con N=27\n",
      "error es 5.6e-06  valor de integral es  6.493949 con N=28\n",
      "error es 6.6e-06  valor de integral es  6.493954 con N=29\n",
      "error es 7.7e-06  valor de integral es  6.493948 con N=30\n"
     ]
    }
   ],
   "source": [
    "Err=[]\n",
    "for i in range(1,31):\n",
    "    I1=integrate(f,a=0.0,b=1.0,N=i)\n",
    "    I2=integrate(f,a=0.0,b=1.0,N=i+1)\n",
    "    Err.append(abs(I2-I1))\n",
    "    print(\"error es {:2.1e}  valor de integral es {:9.6f} con N={}\".format(abs(I2-I1),I1,i))\n",
    "# print(\"Valor de integral es\",I1,\"con N=%i\" %i)"
   ]
  },
  {
   "cell_type": "markdown",
   "metadata": {},
   "source": [
    "Dejándonos llevar por nuestro estimado del error pienso que el error es del orden $1\\times 10^{-6}$ con $N=30$"
   ]
  },
  {
   "cell_type": "markdown",
   "metadata": {},
   "source": [
    "\\section*{c)}"
   ]
  },
  {
   "cell_type": "markdown",
   "metadata": {},
   "source": [
    "Estimando la constante $\\sigma$ de Stefan-Boltzmann utilizando $W=\\sigma T^4$.\n",
    "Si igualamos ambas ecuaciónes y comparamos tenemos que \n",
    "$$\\sigma T^4 = \\frac{k_B^4 T^4}{4\\pi^2 c^2\\hbar^3}\\int_0^1 \\frac{z^3}{(e^{(z/(1-z)}-1)} \\frac{1}{(1-z)^5} dz$$"
   ]
  },
  {
   "cell_type": "markdown",
   "metadata": {},
   "source": [
    "y por lo tanto $\\sigma$ debería ser $$\\sigma=\\frac{k_B^4}{4\\pi^2 c^2\\hbar^3}\\int_0^1 \\frac{z^3}{(e^{(z/(1-z)}-1)} \\frac{1}{(1-z)^5} dz$$"
   ]
  },
  {
   "cell_type": "code",
   "execution_count": 43,
   "metadata": {},
   "outputs": [],
   "source": [
    "Int=integrate(f,a=0.0,b=1.0,N=9)\n",
    "kB=1.38e-23\n",
    "c=3e8\n",
    "hbar=6.626e-34/(2*pi)"
   ]
  },
  {
   "cell_type": "code",
   "execution_count": 44,
   "metadata": {},
   "outputs": [],
   "source": [
    "sigma = Int*kB**4/(4*pi**2 * c**2 * hbar**3)"
   ]
  },
  {
   "cell_type": "code",
   "execution_count": 45,
   "metadata": {},
   "outputs": [
    {
     "name": "stdout",
     "output_type": "stream",
     "text": [
      "sigma=5.552e-08\n"
     ]
    }
   ],
   "source": [
    "print(\"sigma={:.3e}\".format(sigma))"
   ]
  },
  {
   "cell_type": "code",
   "execution_count": 51,
   "metadata": {},
   "outputs": [
    {
     "name": "stdout",
     "output_type": "stream",
     "text": [
      "sigma=2.026e-08 N= 1\n",
      "sigma=1.247e-07 N= 2\n",
      "sigma=4.445e-08 N= 3\n",
      "sigma=3.530e-08 N= 4\n",
      "sigma=5.963e-08 N= 5\n",
      "sigma=6.457e-08 N= 6\n",
      "sigma=5.703e-08 N= 7\n",
      "sigma=5.365e-08 N= 8\n",
      "sigma=5.552e-08 N= 9\n",
      "sigma=5.720e-08 N= 10\n",
      "sigma=5.714e-08 N= 11\n",
      "sigma=5.654e-08 N= 12\n",
      "sigma=5.631e-08 N= 13\n",
      "sigma=5.641e-08 N= 14\n",
      "sigma=5.654e-08 N= 15\n",
      "sigma=5.657e-08 N= 16\n",
      "sigma=5.654e-08 N= 17\n",
      "sigma=5.652e-08 N= 18\n",
      "sigma=5.651e-08 N= 19\n",
      "sigma=5.651e-08 N= 20\n",
      "sigma=5.652e-08 N= 21\n",
      "sigma=5.652e-08 N= 22\n",
      "sigma=5.652e-08 N= 23\n",
      "sigma=5.652e-08 N= 24\n",
      "sigma=5.652e-08 N= 25\n",
      "sigma=5.652e-08 N= 26\n",
      "sigma=5.652e-08 N= 27\n",
      "sigma=5.652e-08 N= 28\n",
      "sigma=5.652e-08 N= 29\n"
     ]
    }
   ],
   "source": [
    "for i in range(1,30):\n",
    "    Int=integrate(f,a=0.0,b=1.0,N=i)\n",
    "    kB=1.38e-23\n",
    "    c=3e8\n",
    "    hbar=6.626e-34/(2*pi)\n",
    "\n",
    "    sigma = Int*kB**4/(4*pi**2 * c**2 * hbar**3)\n",
    "\n",
    "    print(\"sigma={:.3e}\".format(sigma),\"N=\",i)\n",
    "\n"
   ]
  },
  {
   "cell_type": "code",
   "execution_count": null,
   "metadata": {},
   "outputs": [],
   "source": []
  }
 ],
 "metadata": {
  "kernelspec": {
   "display_name": "Python 3",
   "language": "python",
   "name": "python3"
  },
  "language_info": {
   "codemirror_mode": {
    "name": "ipython",
    "version": 3
   },
   "file_extension": ".py",
   "mimetype": "text/x-python",
   "name": "python",
   "nbconvert_exporter": "python",
   "pygments_lexer": "ipython3",
   "version": "3.7.6"
  }
 },
 "nbformat": 4,
 "nbformat_minor": 4
}
