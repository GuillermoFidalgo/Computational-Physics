{
 "cells": [
  {
   "cell_type": "markdown",
   "metadata": {},
   "source": [
    " Importando módulos"
   ]
  },
  {
   "cell_type": "code",
   "execution_count": 2,
   "metadata": {},
   "outputs": [],
   "source": [
    "import numpy as np"
   ]
  },
  {
   "cell_type": "code",
   "execution_count": 3,
   "metadata": {},
   "outputs": [],
   "source": [
    "# inicializando parámetros\n",
    "m = 9.11e-31\n",
    "h=6.626e-34\n",
    "hbar=h/(2*np.pi)\n",
    "E=10 #eV\n",
    "V= 9 #eV"
   ]
  },
  {
   "cell_type": "markdown",
   "metadata": {},
   "source": [
    "Definimos los números de onda \n",
    "\\begin{gather}\n",
    "k_1=\\frac{\\sqrt{2mE}}{\\hbar} \\\\\n",
    "k_2=\\frac{\\sqrt{2m(E-V)}}{\\hbar}\n",
    "\\end{gather}"
   ]
  },
  {
   "cell_type": "code",
   "execution_count": 4,
   "metadata": {},
   "outputs": [],
   "source": [
    "k1=np.sqrt(2*m*E)/hbar\n",
    "k2=np.sqrt(2*m*(E-V))/hbar"
   ]
  },
  {
   "cell_type": "markdown",
   "metadata": {},
   "source": [
    "Definimos la probabilidad de transmisión y reflexión\n",
    "\n",
    "$$ T = \\frac{4k_1 k_2}{(k_1 + k_2)^2} \\hspace{2cm} R=\\left(\\frac{k_1 - k_2}{k_1 + k_2}\\right)^2$$"
   ]
  },
  {
   "cell_type": "code",
   "execution_count": 5,
   "metadata": {},
   "outputs": [],
   "source": [
    "T= 4*k1*k2/(k1+k2)**2\n",
    "R= ((k1-k2)/(k1+k2))**2"
   ]
  },
  {
   "cell_type": "code",
   "execution_count": 6,
   "metadata": {},
   "outputs": [
    {
     "name": "stdout",
     "output_type": "stream",
     "text": [
      "La probabilidad de transmisión es 0.7301261363877615 \n",
      "y la probabilidad de reflexión es 0.26987386361223836\n"
     ]
    }
   ],
   "source": [
    "print(\"La probabilidad de transmisión es {} \\ny la probabilidad de reflexión es {}\".format(T,R))"
   ]
  }
 ],
 "metadata": {
  "kernelspec": {
   "display_name": "Python 3",
   "language": "python",
   "name": "python3"
  },
  "language_info": {
   "codemirror_mode": {
    "name": "ipython",
    "version": 3
   },
   "file_extension": ".py",
   "mimetype": "text/x-python",
   "name": "python",
   "nbconvert_exporter": "python",
   "pygments_lexer": "ipython3",
   "version": "3.8.5"
  }
 },
 "nbformat": 4,
 "nbformat_minor": 4
}
