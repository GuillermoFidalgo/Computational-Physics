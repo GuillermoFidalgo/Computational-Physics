{
 "cells": [
  {
   "cell_type": "markdown",
   "metadata": {},
   "source": [
    "![problem](problem.png)"
   ]
  },
  {
   "cell_type": "code",
   "execution_count": 1,
   "metadata": {},
   "outputs": [],
   "source": [
    "from numpy import array"
   ]
  },
  {
   "cell_type": "markdown",
   "metadata": {},
   "source": [
    "\\section*{a)}"
   ]
  },
  {
   "cell_type": "code",
   "execution_count": 2,
   "metadata": {},
   "outputs": [
    {
     "name": "stdout",
     "output_type": "stream",
     "text": [
      "ingrese coeficiente \"a\" de la cuadrática0.001\n",
      "ingrese coeficiente \"b\" de la cuadrática1000\n",
      "ingrese coeficiente \"c\" de la cuadrática0.001\n"
     ]
    }
   ],
   "source": [
    "a=float(input('ingrese coeficiente \"a\" de la cuadrática'))\n",
    "b=float(input('ingrese coeficiente \"b\" de la cuadrática'))\n",
    "c=float(input('ingrese coeficiente \"c\" de la cuadrática'))"
   ]
  },
  {
   "cell_type": "code",
   "execution_count": 16,
   "metadata": {},
   "outputs": [],
   "source": [
    "def quadratic(a,b,c):\n",
    "    pm=array([+1,-1])\n",
    "    x = -b + pm*(b**2 - 4*a*c)**.5\n",
    "    x= x/(2*a)\n",
    "    return x"
   ]
  },
  {
   "cell_type": "code",
   "execution_count": 17,
   "metadata": {},
   "outputs": [
    {
     "name": "stdout",
     "output_type": "stream",
     "text": [
      "[-9.99989425e-07 -1.00000000e+06]\n"
     ]
    }
   ],
   "source": [
    "x= quadratic(a,b,c)\n",
    "print(x)"
   ]
  },
  {
   "cell_type": "markdown",
   "metadata": {},
   "source": [
    "\\section*{b)}"
   ]
  },
  {
   "cell_type": "code",
   "execution_count": 18,
   "metadata": {},
   "outputs": [],
   "source": [
    "def quadratic2(a,b,c):\n",
    "    pm=array([+1,-1])\n",
    "    x = -b - pm*(b**2 - 4*a*c)**.5\n",
    "    x= (2*c)/x\n",
    "    return x"
   ]
  },
  {
   "cell_type": "code",
   "execution_count": 19,
   "metadata": {},
   "outputs": [
    {
     "name": "stdout",
     "output_type": "stream",
     "text": [
      "[-1.00000000e-06 -1.00001058e+06]\n"
     ]
    }
   ],
   "source": [
    "x = quadratic2(a,b,c)\n",
    "print(x)"
   ]
  },
  {
   "cell_type": "markdown",
   "metadata": {},
   "source": [
    "Observamos que este método solamente provee la primera raíz (el número pequeño) con el valor correcto mientras que para el primer método se devuelve la segunda raíz (el número grande) con el valor correcto."
   ]
  },
  {
   "cell_type": "markdown",
   "metadata": {},
   "source": [
    "Esto se explica con que el primer método trabaja bien calculando números grandes pero el segundo método trabaja bien para calcular números pequeños. Esto es debido a errores de redondeo para cada método."
   ]
  },
  {
   "cell_type": "markdown",
   "metadata": {},
   "source": [
    "\\section*{c)}"
   ]
  },
  {
   "cell_type": "code",
   "execution_count": 20,
   "metadata": {},
   "outputs": [],
   "source": [
    "def quadratic_adj(a,b,c):\n",
    "    x=quadratic(a,b,c)[1],quadratic2(a,b,c)[0]\n",
    "    return x"
   ]
  },
  {
   "cell_type": "code",
   "execution_count": 21,
   "metadata": {},
   "outputs": [
    {
     "name": "stdout",
     "output_type": "stream",
     "text": [
      "(-999999.999999, -1.000000000001e-06)\n"
     ]
    }
   ],
   "source": [
    "x=quadratic_adj(a,b,c)\n",
    "print(x)"
   ]
  }
 ],
 "metadata": {
  "kernelspec": {
   "display_name": "Python 3",
   "language": "python",
   "name": "python3"
  },
  "language_info": {
   "codemirror_mode": {
    "name": "ipython",
    "version": 3
   },
   "file_extension": ".py",
   "mimetype": "text/x-python",
   "name": "python",
   "nbconvert_exporter": "python",
   "pygments_lexer": "ipython3",
   "version": "3.8.5"
  }
 },
 "nbformat": 4,
 "nbformat_minor": 4
}
