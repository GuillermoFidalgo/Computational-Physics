{
 "cells": [
  {
   "cell_type": "markdown",
   "metadata": {},
   "source": [
    "La distancia que entre la tierra y planeta es x"
   ]
  },
  {
   "cell_type": "code",
   "execution_count": 1,
   "metadata": {},
   "outputs": [
    {
     "name": "stdout",
     "output_type": "stream",
     "text": [
      "Entre la distancia de la tierra en años luz\n",
      "10\n",
      "Entre la velocidad del cohete como fracción de c\n",
      ".99\n"
     ]
    }
   ],
   "source": [
    "x=float(input(\"Entre la distancia de la tierra en años luz\\n\"))\n",
    "v=float(input(\"Entre la velocidad del cohete como fracción de c\\n\"))"
   ]
  },
  {
   "cell_type": "markdown",
   "metadata": {},
   "source": [
    "Para el observador en la tierra el tiempo de vuelo es calculado simplemente con \n",
    "\n",
    "$$ t=\\frac{x}{v}$$"
   ]
  },
  {
   "cell_type": "code",
   "execution_count": 2,
   "metadata": {},
   "outputs": [
    {
     "name": "stdout",
     "output_type": "stream",
     "text": [
      "El tiempo de vuelo para un observado en tierra es 10.1010101010101\n"
     ]
    }
   ],
   "source": [
    "t=x/v\n",
    "print(\"El tiempo de vuelo para un observado en tierra es\",t)"
   ]
  },
  {
   "cell_type": "markdown",
   "metadata": {},
   "source": [
    "Para un observador en el cohete el tiempo de vuelo es \n",
    "$$ t = \\gamma t_0$$\n",
    "donde $$\\gamma =\\frac{1}{\\sqrt{1-\\frac{v^2}{c^2}}}$$\n",
    "con $c=1$ tenemos"
   ]
  },
  {
   "cell_type": "code",
   "execution_count": 3,
   "metadata": {},
   "outputs": [
    {
     "name": "stdout",
     "output_type": "stream",
     "text": [
      "El tiempo de vuelo para un observador en la tierra es 1.424922826228878 años luz\n"
     ]
    }
   ],
   "source": [
    "gamma = 1/((1-v**2)**.5)\n",
    "t0=t/gamma\n",
    "print(\"El tiempo de vuelo para un observador en el cohete es {} años luz\".format(t0))"
   ]
  }
 ],
 "metadata": {
  "kernelspec": {
   "display_name": "Python 3",
   "language": "python",
   "name": "python3"
  },
  "language_info": {
   "codemirror_mode": {
    "name": "ipython",
    "version": 3
   },
   "file_extension": ".py",
   "mimetype": "text/x-python",
   "name": "python",
   "nbconvert_exporter": "python",
   "pygments_lexer": "ipython3",
   "version": "3.8.5"
  }
 },
 "nbformat": 4,
 "nbformat_minor": 4
}
